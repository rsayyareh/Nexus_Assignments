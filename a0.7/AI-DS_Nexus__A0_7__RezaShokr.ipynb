{
  "cells": [
    {
      "cell_type": "markdown",
      "metadata": {
        "id": "dbICYwLGo5Av"
      },
      "source": [
        "# 🔥 Assignment: Exploring PyTorch\n",
        "\n",
        "<p align=\"center\">📢⚠️📂  </p>\n",
        "\n",
        "<p align=\"center\"> Please name your file using the format: <code>assignmentName_nickname.py/.ipynb</code> (e.g., <code>project1_ali.py</code>) and push it to GitHub with a clear commit message.</p>\n",
        "\n",
        "<p align=\"center\"> 🚨📝🧠 </p>\n",
        "\n",
        "------------------------------------------------\n",
        "\n"
      ]
    },
    {
      "cell_type": "markdown",
      "metadata": {
        "id": "b8h5DExTo6K5"
      },
      "source": [
        "## 🎯 Goal\n",
        "This assignment evaluates your basic skills in using PyTorch, focusing on tensors, autograd, and a small training loop.\n",
        "\n"
      ]
    },
    {
      "cell_type": "markdown",
      "metadata": {
        "id": "euolCT3oo8dR"
      },
      "source": [
        "### 1️⃣ Setup and Basics\n",
        "**Task:**\n",
        "\n",
        "* Install PyTorch and check its version.\n",
        "\n",
        "* Create a 2D tensor and print it."
      ]
    },
    {
      "cell_type": "code",
      "execution_count": 8,
      "metadata": {
        "id": "9AADPzP6o1iY"
      },
      "outputs": [
        {
          "name": "stdout",
          "output_type": "stream",
          "text": [
            "PyTorch version: 2.8.0+cpu\n",
            "Tensor x:\n",
            " tensor([[1., 2.],\n",
            "        [3., 4.]])\n"
          ]
        }
      ],
      "source": [
        "import torch\n",
        "\n",
        "print(\"PyTorch version:\", torch.__version__)\n",
        "x = torch.tensor([[1., 2.], [3., 4.]])\n",
        "print(\"Tensor x:\\n\", x)\n"
      ]
    },
    {
      "cell_type": "code",
      "execution_count": 9,
      "metadata": {
        "id": "T5mCQMYFpBJm"
      },
      "outputs": [
        {
          "name": "stdout",
          "output_type": "stream",
          "text": [
            "Tensor y:\n",
            " tensor([[5., 6.],\n",
            "        [7., 8.]])\n"
          ]
        }
      ],
      "source": [
        "# Your turn:\n",
        "# Create another tensor y of the same shape with values [[5, 6], [7, 8]].\n",
        "y = torch.tensor([[5., 6.], [7., 8.]])\n",
        "print(\"Tensor y:\\n\", y)\n",
        "\n",
        "\n"
      ]
    },
    {
      "cell_type": "markdown",
      "metadata": {
        "id": "7yRBms7npEUe"
      },
      "source": [
        "### 2️⃣ Tensor Operations 🧮\n",
        "**Task:** Perform addition and matrix multiplication."
      ]
    },
    {
      "cell_type": "code",
      "execution_count": 10,
      "metadata": {
        "id": "nGRNryC4pDv2"
      },
      "outputs": [
        {
          "name": "stdout",
          "output_type": "stream",
          "text": [
            "Addition:\n",
            " tensor([[ 6.,  8.],\n",
            "        [10., 12.]])\n",
            "Matrix Multiplication:\n",
            " tensor([[19., 22.],\n",
            "        [43., 50.]])\n"
          ]
        }
      ],
      "source": [
        "z = x + y\n",
        "print(\"Addition:\\n\", z)\n",
        "\n",
        "mat_mul = x @ y\n",
        "print(\"Matrix Multiplication:\\n\", mat_mul)\n"
      ]
    },
    {
      "cell_type": "code",
      "execution_count": 14,
      "metadata": {
        "id": "tf64nP2dpIod"
      },
      "outputs": [
        {
          "name": "stdout",
          "output_type": "stream",
          "text": [
            "tensor([[ 5., 12.],\n",
            "        [21., 32.]])\n"
          ]
        }
      ],
      "source": [
        "# Your turn:\n",
        "# Perform element-wise multiplication (x * y) and print the result.\n",
        "dot_mul = x * y\n",
        "print(dot_mul)\n",
        "\n",
        "\n",
        "\n"
      ]
    },
    {
      "cell_type": "markdown",
      "metadata": {
        "id": "h3dABundpMYU"
      },
      "source": [
        "### 3️⃣ Autograd and Gradients ⚙️\n",
        "**Task:** Enable gradient tracking and compute derivatives."
      ]
    },
    {
      "cell_type": "code",
      "execution_count": null,
      "metadata": {
        "id": "igtPKY90pLGt"
      },
      "outputs": [
        {
          "name": "stdout",
          "output_type": "stream",
          "text": [
            "tensor(3., requires_grad=True)\n",
            "Gradient of b wrt a: tensor(8.)\n"
          ]
        }
      ],
      "source": [
        "a = torch.tensor(3.0, requires_grad=True)\n",
        "b = (a ** 2) + 2 * a + 1\n",
        "b.backward()\n",
        "print(\"Gradient of b wrt a:\", a.grad)\n"
      ]
    },
    {
      "cell_type": "code",
      "execution_count": null,
      "metadata": {
        "id": "bLceqHHvpOwt"
      },
      "outputs": [
        {
          "name": "stdout",
          "output_type": "stream",
          "text": [
            "Gradient of q at p: tensor(16.)\n"
          ]
        }
      ],
      "source": [
        "# Your turn:\n",
        "# Create a tensor p with value 2.0 (requires_grad=True) and compute the gradient of q = p^3 + 4p.\n",
        "p = torch.tensor(2.0, requires_grad=True)\n",
        "q = p ** 3 + 4 * p\n",
        "q.backward()\n",
        "print(\"Gradient of q at p:\", p.grad)\n",
        "\n",
        "\n"
      ]
    },
    {
      "cell_type": "markdown",
      "metadata": {
        "id": "jytRN17EpVbM"
      },
      "source": [
        "### 4️⃣ Random Tensors 🎲\n",
        "**Task:** Generate a random tensor of shape (2, 3) and find its max and min."
      ]
    },
    {
      "cell_type": "code",
      "execution_count": 27,
      "metadata": {
        "id": "fb7fv-E_pS6e"
      },
      "outputs": [
        {
          "name": "stdout",
          "output_type": "stream",
          "text": [
            "Random Tensor:\n",
            " tensor([[0.9230, 0.3572, 0.7282],\n",
            "        [0.3952, 0.5441, 0.2520]])\n",
            "Max: tensor(0.9230)\n",
            "Min: tensor(0.2520)\n"
          ]
        }
      ],
      "source": [
        "rand_tensor = torch.rand((2, 3))\n",
        "print(\"Random Tensor:\\n\", rand_tensor)\n",
        "print(\"Max:\", torch.max(rand_tensor))\n",
        "print(\"Min:\", torch.min(rand_tensor))\n"
      ]
    },
    {
      "cell_type": "markdown",
      "metadata": {
        "id": "bhSClXespjvT"
      },
      "source": [
        "### 5️⃣ Mini Training Loop 🤖\n",
        "**Task:** Train a simple linear model y = wx + b using gradient descent."
      ]
    },
    {
      "cell_type": "code",
      "execution_count": null,
      "metadata": {
        "id": "o7s2KMJVpZ5M"
      },
      "outputs": [
        {
          "name": "stdout",
          "output_type": "stream",
          "text": [
            "tensor([[1.],\n",
            "        [2.],\n",
            "        [3.]])\n",
            "tensor([[2.],\n",
            "        [4.],\n",
            "        [6.]])\n",
            "tensor([-0.4748], requires_grad=True)\n",
            "tensor(3., requires_grad=True)\n",
            "tensor(107.8136, grad_fn=<SumBackward0>)\n",
            "tensor(48.0209, grad_fn=<SumBackward0>)\n",
            "Trained weight: 0.8197987079620361\n",
            "Trained bias: -0.13070182502269745\n"
          ]
        }
      ],
      "source": [
        "# Data\n",
        "x_train = torch.tensor([[1.0], [2.0], [3.0]])\n",
        "y_train = torch.tensor([[2.0], [4.0], [6.0]])\n",
        "\n",
        "# Model\n",
        "w = torch.randn(1, requires_grad=True)\n",
        "b = torch.randn(1, requires_grad=True)\n",
        "\n",
        "# Training\n",
        "learning_rate = 0.01\n",
        "for epoch in range(2):\n",
        "    y_pred = w * x_train + b\n",
        "    loss = torch.sum((y_pred - y_train) ** 2)\n",
        "    print(loss)\n",
        "    loss.backward()\n",
        "\n",
        "    # Update\n",
        "    with torch.no_grad():\n",
        "        w -= learning_rate * w.grad\n",
        "        b -= learning_rate * b.grad\n",
        "        w.grad.zero_()\n",
        "        b.grad.zero_()\n",
        "\n",
        "print(\"Trained weight:\", w.item())\n",
        "print(\"Trained bias:\", b.item())\n"
      ]
    },
    {
      "cell_type": "markdown",
      "metadata": {
        "id": "rGhFqtrVpv8_"
      },
      "source": [
        "### 6️⃣ Bonus ⚡\n",
        "* Convert a PyTorch tensor to a NumPy array.\n",
        "\n",
        "* Convert it back to a PyTorch tensor."
      ]
    },
    {
      "cell_type": "code",
      "execution_count": 44,
      "metadata": {
        "id": "AF4t92eDpq0j"
      },
      "outputs": [
        {
          "name": "stdout",
          "output_type": "stream",
          "text": [
            "[[1.]\n",
            " [2.]\n",
            " [3.]]\n",
            "tensor([[1.],\n",
            "        [2.],\n",
            "        [3.]])\n"
          ]
        }
      ],
      "source": [
        "# To do\n",
        "np_arr = x_train.numpy()\n",
        "ts_arr = torch.from_numpy(np_arr)\n",
        "\n",
        "print(np_arr)\n",
        "print(ts_arr)\n",
        "\n",
        "\n"
      ]
    }
  ],
  "metadata": {
    "colab": {
      "provenance": []
    },
    "kernelspec": {
      "display_name": "Python 3",
      "name": "python3"
    },
    "language_info": {
      "codemirror_mode": {
        "name": "ipython",
        "version": 3
      },
      "file_extension": ".py",
      "mimetype": "text/x-python",
      "name": "python",
      "nbconvert_exporter": "python",
      "pygments_lexer": "ipython3",
      "version": "3.13.7"
    }
  },
  "nbformat": 4,
  "nbformat_minor": 0
}
