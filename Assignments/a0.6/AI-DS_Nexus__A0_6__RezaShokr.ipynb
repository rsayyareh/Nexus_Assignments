{
  "cells": [
    {
      "cell_type": "markdown",
      "metadata": {
        "id": "Txr_tIDhHcu2"
      },
      "source": [
        "# 📚 Assignment 06 — Descriptive Statistics\n",
        "\n",
        "\n",
        "<p align=\"center\">📢⚠️📂  </p>\n",
        "\n",
        "<p align=\"center\"> Please name your file using the format: <code>assignmentName_nickname.py/.ipynb</code> (e.g., <code>project1_ali.py</code>) and push it to GitHub with a clear commit message.</p>\n",
        "\n",
        "<p align=\"center\"> 🚨📝🧠 </p>\n",
        "\n",
        "------------------------------------------------\n",
        "\n",
        "\n",
        "\n",
        "## 📘 Exploring Descriptive Statistics with NumPy & SciPy\n",
        "This assignment guides you through generating random data, analyzing its statistical properties, and visualizing it using plots.\n"
      ]
    },
    {
      "cell_type": "code",
      "execution_count": 6,
      "metadata": {
        "id": "x1gatSKSHYTm"
      },
      "outputs": [
        {
          "name": "stdout",
          "output_type": "stream",
          "text": [
            "Generated Data: [37 30 35 34 38 37 30 38 27 30]\n"
          ]
        },
        {
          "data": {
            "text/plain": [
              "array([27, 30, 30, 30, 34, 35, 37, 37, 38, 38], dtype=int32)"
            ]
          },
          "execution_count": 6,
          "metadata": {},
          "output_type": "execute_result"
        }
      ],
      "source": [
        "# 📦 Import Required Libraries\n",
        "import numpy as np\n",
        "import random\n",
        "from scipy import stats\n",
        "import matplotlib.pyplot as plt\n",
        "\n",
        "# 🎲 Step 1: Generate Random Integer List\n",
        "np.random.random(42)  # For reproducibility\n",
        "data = np.random.randint(20, 40, size=10)\n",
        "print(\"Generated Data:\", data)\n",
        "np.sort(data)"
      ]
    },
    {
      "cell_type": "markdown",
      "metadata": {
        "id": "cUfGpmVCHvR5"
      },
      "source": [
        "### 📊 Step 2: Central Tendency and Quantiles\n",
        "Let's compute basic statistics — mean, median, mode, and quantiles."
      ]
    },
    {
      "cell_type": "code",
      "execution_count": 7,
      "metadata": {
        "id": "FkmPc2r7Htaz"
      },
      "outputs": [
        {
          "name": "stdout",
          "output_type": "stream",
          "text": [
            "Mean: 33.6\n",
            "Median: 34.5\n",
            "Mode: 30\n",
            "Q1 (25%): 30.0\n",
            "Q3 (75%): 37.0\n",
            "34.5\n"
          ]
        }
      ],
      "source": [
        "# 📐 Central Tendency\n",
        "# mean\n",
        "mean_val = np.mean(data)\n",
        "# median\n",
        "median_val = np.median(data)\n",
        "# mode\n",
        "mode_val = stats.mode(data, keepdims=True).mode[0]\n",
        "\n",
        "# 📏 Quantiles\n",
        "q1 = np.quantile(data, 0.25)\n",
        "q3 = np.quantile(data, 0.75)\n",
        "\n",
        "print(f\"Mean: {mean_val}\")\n",
        "print(f\"Median: {median_val}\")\n",
        "print(f\"Mode: {mode_val}\")\n",
        "print(f\"Q1 (25%): {q1}\")\n",
        "print(f\"Q3 (75%): {q3}\")\n",
        "print(np.quantile(data, 0.5))"
      ]
    },
    {
      "cell_type": "markdown",
      "metadata": {
        "id": "EBZ2KixtHztl"
      },
      "source": [
        "### 🧪 Step 3: Skewness and Kurtosis\n",
        "Skewness shows asymmetry, and kurtosis indicates the \"tailedness\" of the distribution."
      ]
    },
    {
      "cell_type": "code",
      "execution_count": 8,
      "metadata": {
        "id": "XDwmqc3-H05I"
      },
      "outputs": [
        {
          "name": "stdout",
          "output_type": "stream",
          "text": [
            "Skewness: 0.17\n",
            "Kurtosis: -1.23\n"
          ]
        }
      ],
      "source": [
        "# 📉 Skewness and Kurtosis\n",
        "skew_val = stats.skew(data)\n",
        "kurtosis_val = stats.kurtosis(data)\n",
        "\n",
        "print(f\"Skewness: {skew_val:.2f}\")\n",
        "print(f\"Kurtosis: {kurtosis_val:.2f}\")\n"
      ]
    },
    {
      "cell_type": "markdown",
      "metadata": {
        "id": "FOPw0-dSH250"
      },
      "source": [
        "### 📈 Step 4: Visualization - Bar Chart and Boxplot\n",
        "Visualize the data to better understand its distribution and spread."
      ]
    },
    {
      "cell_type": "code",
      "execution_count": 10,
      "metadata": {
        "id": "Zfx5s6xLH1y8"
      },
      "outputs": [
        {
          "data": {
            "image/png": "[encoded data removed]",
            "text/plain": [
              "<Figure size 1200x400 with 2 Axes>"
            ]
          },
          "metadata": {},
          "output_type": "display_data"
        }
      ],
      "source": [
        "# 📊 Bar Plot\n",
        "plt.figure(figsize=(12, 4))\n",
        "\n",
        "plt.subplot(1, 2, 1)\n",
        "# make a bar chart\n",
        "plt.bar(range(len(data)), data)\n",
        "plt.title(\"Bar Plot of Random Data\")\n",
        "plt.xlabel(\"Index\")\n",
        "plt.ylabel(\"Value\")\n",
        "\n",
        "# 📦 Boxplot\n",
        "plt.subplot(1, 2, 2)\n",
        "# make a box plot\n",
        "plt.boxplot(data, vert=False)\n",
        "plt.title(\"Boxplot of Random Data\")\n",
        "plt.xlabel(\"Value\")\n",
        "\n",
        "plt.tight_layout()\n",
        "plt.show()\n"
      ]
    }
  ],
  "metadata": {
    "colab": {
      "provenance": []
    },
    "kernelspec": {
      "display_name": "Python 3",
      "name": "python3"
    },
    "language_info": {
      "codemirror_mode": {
        "name": "ipython",
        "version": 3
      },
      "file_extension": ".py",
      "mimetype": "text/x-python",
      "name": "python",
      "nbconvert_exporter": "python",
      "pygments_lexer": "ipython3",
      "version": "3.13.7"
    }
  },
  "nbformat": 4,
  "nbformat_minor": 0
}
