{
  "cells": [
    {
      "cell_type": "markdown",
      "metadata": {
        "id": "A1k4HkdO05Yu"
      },
      "source": [
        "# 📓 Assignment 4 — Linear Algebra Fundamentals\n",
        "\n",
        "*Vectors & Matrices for Everyday Coding*\n",
        "\n",
        "<p align=\"center\">📢⚠️📂  </p>\n",
        "\n",
        "<p align=\"center\"> Please name your file using the format: <code>assignmentName_nickname.py/.ipynb</code> (e.g., <code>project1_ali.py</code>) and push it to GitHub with a clear commit message.</p>\n",
        "\n",
        "<p align=\"center\"> 🚨📝🧠 </p>\n",
        "\n",
        "------------------------------------------------\n",
        "\n",
        "\n"
      ]
    },
    {
      "cell_type": "markdown",
      "metadata": {
        "id": "mBNupqPj1B1_"
      },
      "source": [
        "## Welcome back, intrepid coder! 🚀\n",
        "In this notebook-styled brief you’ll move from single-direction vectors to multi-direction matrices—core tools behind graphics, robotics, optimisation and (of course) machine-learning. Each mini-section mixes quick notes, a tiny real-world scenario, and hands-on # TODO code shaped for beginners.\n"
      ]
    },
    {
      "cell_type": "markdown",
      "metadata": {
        "id": "zD-AyQCe1Y9e"
      },
      "source": [
        "## 🧭 Vectors 101\n",
        "\n",
        "| Concept             | Quick reminder                                  |\n",
        "|---------------------|--------------------------------------------------|\n",
        "| Representation      | 1-D NumPy array — `np.array([x, y, z])`         |\n",
        "| Length (norm)       | `np.linalg.norm(v)`                             |\n",
        "| Dot / inner product | `v.dot(w)` or `np.inner(v, w)`                  |\n",
        "| Unit vector         | `v / np.linalg.norm(v)`                         |\n"
      ]
    },
    {
      "cell_type": "code",
      "execution_count": 21,
      "metadata": {
        "id": "AWVTIlQP0ysC"
      },
      "outputs": [
        {
          "name": "stdout",
          "output_type": "stream",
          "text": [
            "Length of matrix v = 3\n"
          ]
        },
        {
          "data": {
            "text/plain": [
              "array([[[  66.,   78.,   90.],\n",
              "        [ 147.,  177.,  207.],\n",
              "        [ 228.,  276.,  324.]],\n",
              "\n",
              "       [[ 903.,  969., 1035.],\n",
              "        [1146., 1230., 1314.],\n",
              "        [1389., 1491., 1593.]],\n",
              "\n",
              "       [[2670., 2832., 2952.],\n",
              "        [3069., 3255., 3393.],\n",
              "        [3429., 3637., 3791.]]])"
            ]
          },
          "execution_count": 21,
          "metadata": {},
          "output_type": "execute_result"
        }
      ],
      "source": [
        "# Run once per session\n",
        "import numpy as np\n",
        "\n",
        "# TODO 1: create a 3-D vector named v\n",
        "# TODO 2: print its length\n",
        "# TODO 3: build a second vector w and output the dot product\n",
        "v = np.array([\n",
        "    [[1, 2, 3], [4, 5, 6], [7, 8, 9]],\n",
        "    [[10, 11, 12], [13, 14, 15], [16, 17, 18]],\n",
        "    [[19, 20, 21], [22, 23, 24], [24, 26, 27]]\n",
        "    ])\n",
        "print(f\"Length of matrix v = {len(v)}\")\n",
        "w = np.ones(27).reshape(3, 3, 3)\n",
        "w += v * 2\n",
        "v@w\n",
        "\n"
      ]
    },
    {
      "cell_type": "markdown",
      "metadata": {
        "id": "c_iB5_0A1rg7"
      },
      "source": [
        "### 🚁 Practical Scenario — “Drone hop”\n",
        "A mini-drone lifts off at (2 m, 1 m) and lands at (7 m, 4 m).\n",
        "Calculate its displacement vector, travel distance, and orientation along the x-axis."
      ]
    },
    {
      "cell_type": "code",
      "execution_count": 22,
      "metadata": {
        "id": "Rq-tHCkF1x3p"
      },
      "outputs": [
        {
          "name": "stdout",
          "output_type": "stream",
          "text": [
            "Displacement: [5 3]\n",
            "Distance: 5.830951894845301\n",
            "Unit direction: [0.85749293 0.51449576]\n",
            "Dot-product with x-axis: 5\n"
          ]
        }
      ],
      "source": [
        "p_start = np.array([2, 1])\n",
        "p_end   = np.array([7, 4])\n",
        "\n",
        "# displacement\n",
        "d = p_end - p_start          # ➡️ vector from start to end\n",
        "dist = np.linalg.norm(d)     # 🏁 distance travelled\n",
        "unit = d / dist              # ↗️ unit direction\n",
        "dot_x = d.dot(np.array([1, 0]))  # projection on x-axis\n",
        "\n",
        "print(\"Displacement:\", d)\n",
        "print(\"Distance:\", dist)\n",
        "print(\"Unit direction:\", unit)\n",
        "print(\"Dot-product with x-axis:\", dot_x)\n"
      ]
    },
    {
      "cell_type": "markdown",
      "metadata": {
        "id": "vqX_pXGq16Af"
      },
      "source": [
        "## 🔢 Matrices 101\n",
        "\n",
        "| Operation              | NumPy one-liner                                  |\n",
        "|------------------------|--------------------------------------------------|\n",
        "| Transpose              | `A.T`                                            |\n",
        "| Determinant            | `np.linalg.det(A)`                               |\n",
        "| Inverse                | `np.linalg.inv(A)` (works only if `det(A) ≠ 0`)  |\n",
        "| Matrix-vector multiply | `A @ v`                                          |\n",
        "| Matrix-matrix multiply | `A @ B`                                          |\n"
      ]
    },
    {
      "cell_type": "code",
      "execution_count": 28,
      "metadata": {
        "id": "yycidpaj2BAv"
      },
      "outputs": [
        {
          "name": "stdout",
          "output_type": "stream",
          "text": [
            "A determinant is -2.0000000000000004\n",
            "nInverse of A : [[-2.   1. ]\n",
            " [ 1.5 -0.5]]\n"
          ]
        }
      ],
      "source": [
        "# TODO 4: build a 2×2 matrix A\n",
        "# TODO 5: print its determinant\n",
        "# TODO 6: if invertible, compute and print A_inv\n",
        "A = np.array([[1, 2], [3, 4]])\n",
        "det = np.linalg.det(A)\n",
        "print(f\"A determinant is {det}\")\n",
        "if det!=0:\n",
        "    A_inv = np.linalg.inv(A)\n",
        "    print(f\"nInverse of A : {A_inv}\")\n",
        "else:\n",
        "    print(\"A has no inverse\")\n"
      ]
    },
    {
      "cell_type": "markdown",
      "metadata": {
        "id": "C-ikgDhF2DFn"
      },
      "source": [
        "### 🎯 Practical Scenario — “Rotate that hop”\n",
        "Rotate the drone’s displacement vector 30° counter-clockwise, then verify that the inverse rotation brings it back."
      ]
    },
    {
      "cell_type": "code",
      "execution_count": 29,
      "metadata": {
        "id": "SgmIesbf2G65"
      },
      "outputs": [
        {
          "name": "stdout",
          "output_type": "stream",
          "text": [
            "Rotation matrix determinant: 1.0\n",
            "Rotated vector: [2.83012702 5.09807621]\n",
            "Back-rotated equals original? True\n"
          ]
        }
      ],
      "source": [
        "theta = np.deg2rad(30)          # 🔄 convert degrees to radians\n",
        "R = np.array([[np.cos(theta), -np.sin(theta)],\n",
        "              [np.sin(theta),  np.cos(theta)]])\n",
        "\n",
        "det_R = np.linalg.det(R)        # should be 1.0 (pure rotation)\n",
        "\n",
        "d_rot  = R @ d                  # rotated displacement\n",
        "d_back = np.linalg.inv(R) @ d_rot\n",
        "\n",
        "print(\"Rotation matrix determinant:\", det_R)\n",
        "print(\"Rotated vector:\", d_rot)\n",
        "print(\"Back-rotated equals original?\", np.allclose(d_back, d))\n"
      ]
    }
  ],
  "metadata": {
    "colab": {
      "provenance": []
    },
    "kernelspec": {
      "display_name": "Python 3",
      "name": "python3"
    },
    "language_info": {
      "codemirror_mode": {
        "name": "ipython",
        "version": 3
      },
      "file_extension": ".py",
      "mimetype": "text/x-python",
      "name": "python",
      "nbconvert_exporter": "python",
      "pygments_lexer": "ipython3",
      "version": "3.13.7"
    }
  },
  "nbformat": 4,
  "nbformat_minor": 0
}
