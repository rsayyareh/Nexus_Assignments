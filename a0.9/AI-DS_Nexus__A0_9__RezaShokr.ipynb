{
  "cells": [
    {
      "cell_type": "markdown",
      "metadata": {
        "id": "pmXWXQskqQf7"
      },
      "source": [
        "# 🏗 Assignment: Object-Oriented Programming Basics\n",
        "\n",
        "\n",
        "<p align=\"center\">📢⚠️📂  </p>\n",
        "\n",
        "<p align=\"center\"> Please name your file using the format: <code>assignmentName_nickname.py/.ipynb</code> (e.g., <code>project1_ali.py</code>) and push it to GitHub with a clear commit message.</p>\n",
        "\n",
        "<p align=\"center\"> 🚨📝🧠 </p>\n",
        "\n",
        "------------------------------------------------\n"
      ]
    },
    {
      "cell_type": "markdown",
      "metadata": {
        "id": "mYX-Yr0YqWTv"
      },
      "source": [
        "## 🎯 Goal\n",
        "This assignment checks your understanding of classes, objects, attributes, and methods using Python."
      ]
    },
    {
      "cell_type": "markdown",
      "metadata": {
        "id": "uxnkvADeqX6P"
      },
      "source": [
        "### 1️⃣ Class and Object Creation\n",
        "**Task:**\n",
        "\n",
        "* Define a class Car with attributes brand and year.\n",
        "\n",
        "* Create an object car1 of class Car with values (\"Toyota\", 2020) and print them."
      ]
    },
    {
      "cell_type": "code",
      "execution_count": 34,
      "metadata": {
        "id": "HF7h_UxJqNLb"
      },
      "outputs": [
        {
          "name": "stdout",
          "output_type": "stream",
          "text": [
            "Toyota 2020\n"
          ]
        }
      ],
      "source": [
        "# Example snippet\n",
        "class Car:\n",
        "    def __init__(self, brand, year):\n",
        "        self.brand = brand\n",
        "        self.year = year\n",
        "\n",
        "car1 = Car(\"Toyota\", 2020)\n",
        "print(car1.brand, car1.year)\n"
      ]
    },
    {
      "cell_type": "code",
      "execution_count": 35,
      "metadata": {
        "id": "5frI0xqrqcz2"
      },
      "outputs": [
        {
          "name": "stdout",
          "output_type": "stream",
          "text": [
            "Tesla 2023\n"
          ]
        }
      ],
      "source": [
        "#Your turn:\n",
        "# Create another object car2 with brand \"Tesla\" and year 2023.\n",
        "car2 = Car(\"Tesla\", 2023)\n",
        "print(car2.brand, car2.year)\n",
        "\n",
        "\n",
        "\n"
      ]
    },
    {
      "cell_type": "markdown",
      "metadata": {
        "id": "1WvafJpAqgkt"
      },
      "source": [
        "### 2️⃣ Add Methods 🛠\n",
        "**Task:**\n",
        "Add a method info() to Car that prints \"Brand: <brand>, Year: <year>\"."
      ]
    },
    {
      "cell_type": "code",
      "execution_count": 36,
      "metadata": {
        "id": "AJM4pVrzqfJP"
      },
      "outputs": [
        {
          "name": "stdout",
          "output_type": "stream",
          "text": [
            "Brand: Toyota, Year: 2020\n"
          ]
        }
      ],
      "source": [
        "# Example snippet\n",
        "class Car:\n",
        "    def __init__(self, brand, year):\n",
        "        self.brand = brand\n",
        "        self.year = year\n",
        "\n",
        "    def info(self):\n",
        "        print(f\"Brand: {self.brand}, Year: {self.year}\")\n",
        "\n",
        "car1 = Car(\"Toyota\", 2020)\n",
        "car1.info()\n"
      ]
    },
    {
      "cell_type": "code",
      "execution_count": 37,
      "metadata": {
        "id": "qwuFw0CiqkM8"
      },
      "outputs": [
        {
          "name": "stdout",
          "output_type": "stream",
          "text": [
            "Brand: Tesla, Year: 2023\n"
          ]
        }
      ],
      "source": [
        "# Your turn:\n",
        "# Call info() for car2.\n",
        "car2 = Car(\"Tesla\", 2023)\n",
        "car2.info()\n",
        "\n",
        "\n"
      ]
    },
    {
      "cell_type": "markdown",
      "metadata": {
        "id": "AOwBtvr0qosK"
      },
      "source": [
        "### 3️⃣ Class vs Instance Attributes 📦\n",
        "**Task:**\n",
        "\n",
        "* Add a class attribute wheels = 4 to Car.\n",
        "\n",
        "* Print car1.wheels and car2.wheels."
      ]
    },
    {
      "cell_type": "code",
      "execution_count": 38,
      "metadata": {
        "id": "rPXvKwtsqm0C"
      },
      "outputs": [
        {
          "name": "stdout",
          "output_type": "stream",
          "text": [
            "Brand: Toyota, Wheels: 4\n",
            "Brand: Tesla, Wheels: 4\n"
          ]
        }
      ],
      "source": [
        "# To do\n",
        "setattr(Car,'wheels', 4)\n",
        "print(f\"Brand: {car1.brand}, Wheels: {car1.wheels}\")\n",
        "print(f\"Brand: {car2.brand}, Wheels: {car2.wheels}\")\n"
      ]
    },
    {
      "cell_type": "markdown",
      "metadata": {
        "id": "NLoiaaeuquwg"
      },
      "source": [
        "### 4️⃣ Inheritance 👑\n",
        "**Task:**\n",
        "\n",
        "* Create a subclass ElectricCar inheriting from Car.\n",
        "* Add a new attribute battery (e.g., \"80 kWh\") and a method battery_info() that prints \"Battery: <battery>\"."
      ]
    },
    {
      "cell_type": "code",
      "execution_count": 39,
      "metadata": {
        "id": "e_sS1YdIqtk_"
      },
      "outputs": [
        {
          "name": "stdout",
          "output_type": "stream",
          "text": [
            "Brand: Tesla, Year: 2023\n",
            "Battery: 80 kWh\n"
          ]
        }
      ],
      "source": [
        "# Example snippet\n",
        "class Car:\n",
        "    def __init__(self, brand, year):\n",
        "        self.brand = brand\n",
        "        self.year = year\n",
        "\n",
        "    def info(self):\n",
        "        print(f\"Brand: {self.brand}, Year: {self.year}\")\n",
        "    \n",
        "class ElectricCar(Car):\n",
        "    def __init__(self, brand, year, battery):\n",
        "        super().__init__(brand, year)\n",
        "        self.battery = battery\n",
        "\n",
        "    def battery_info(self):\n",
        "        print(f\"Battery: {self.battery}\")\n",
        "\n",
        "e_car = ElectricCar(\"Tesla\", 2023, \"80 kWh\")\n",
        "e_car.info()\n",
        "e_car.battery_info()\n"
      ]
    },
    {
      "cell_type": "markdown",
      "metadata": {
        "id": "wC0OIrRMq7jv"
      },
      "source": [
        "### 5️⃣ Bonus ⚡\n",
        "* Add a __str__ method to Car to return a string like: \"Car(brand=Toyota, year=2020)\"."
      ]
    },
    {
      "cell_type": "code",
      "execution_count": 43,
      "metadata": {
        "id": "cAfBWxrlrA2t"
      },
      "outputs": [
        {
          "data": {
            "text/plain": [
              "'Car(brand=Toyota, year=2020)'"
            ]
          },
          "execution_count": 43,
          "metadata": {},
          "output_type": "execute_result"
        }
      ],
      "source": [
        "# To do\n",
        "# Example snippet\n",
        "class Car:\n",
        "    def __init__(self, brand, year):\n",
        "        self.brand = brand\n",
        "        self.year = year\n",
        "\n",
        "    def info(self):\n",
        "        print(f\"Brand: {self.brand}, Year: {self.year}\")\n",
        "\n",
        "    def st(self):\n",
        "        return f\"Car(brand={self.brand}, year={self.year})\"\n",
        "\n",
        "car1 = Car(\"Toyota\", 2020)\n",
        "car1.st()\n",
        "\n",
        "\n",
        "\n"
      ]
    }
  ],
  "metadata": {
    "colab": {
      "provenance": []
    },
    "kernelspec": {
      "display_name": ".venv",
      "language": "python",
      "name": "python3"
    },
    "language_info": {
      "codemirror_mode": {
        "name": "ipython",
        "version": 3
      },
      "file_extension": ".py",
      "mimetype": "text/x-python",
      "name": "python",
      "nbconvert_exporter": "python",
      "pygments_lexer": "ipython3",
      "version": "3.10.11"
    }
  },
  "nbformat": 4,
  "nbformat_minor": 0
}
