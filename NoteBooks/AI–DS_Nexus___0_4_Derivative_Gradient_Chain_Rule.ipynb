{
  "nbformat": 4,
  "nbformat_minor": 0,
  "metadata": {
    "colab": {
      "provenance": []
    },
    "kernelspec": {
      "name": "python3",
      "display_name": "Python 3"
    },
    "language_info": {
      "name": "python"
    }
  },
  "cells": [
    {
      "cell_type": "markdown",
      "source": [
        "#Derivative - Gradient - Chain Rule"
      ],
      "metadata": {
        "id": "YFPB2XIcRy6P"
      }
    },
    {
      "cell_type": "markdown",
      "source": [
        "##Derivative Definition"
      ],
      "metadata": {
        "id": "9yjg77KXR-Lz"
      }
    },
    {
      "cell_type": "code",
      "source": [
        "def get_derivative(func, x):\n",
        "    \"\"\"Compute the derivative of `func` at the location `x`.\"\"\"\n",
        "    h = 0.0001                          # step size\n",
        "    return (func(x+h) - func(x)) / h    # rise-over-run\n",
        "\n",
        "def f(x):\n",
        "  return x**2                           # some test function f(x)=x^2\n",
        "\n",
        "x = 3                                   # the location of interest\n",
        "computed = get_derivative(f, x)\n",
        "actual = 2*x\n",
        "\n",
        "computed, actual                        # pretty close if you ask me..."
      ],
      "metadata": {
        "colab": {
          "base_uri": "https://localhost:8080/"
        },
        "id": "PUG9X-BhRydo",
        "outputId": "2fb8d6fe-d948-41b1-bd47-ffe365a09fab"
      },
      "execution_count": null,
      "outputs": [
        {
          "output_type": "execute_result",
          "data": {
            "text/plain": [
              "(6.000100000012054, 6)"
            ]
          },
          "metadata": {},
          "execution_count": 1
        }
      ]
    },
    {
      "cell_type": "code",
      "execution_count": null,
      "metadata": {
        "colab": {
          "base_uri": "https://localhost:8080/"
        },
        "id": "qgh1gO3uRmj9",
        "outputId": "18fcd6cb-4a91-4235-c7a7-35f058bca158"
      },
      "outputs": [
        {
          "output_type": "stream",
          "name": "stdout",
          "text": [
            "Requirement already satisfied: sympy in /usr/local/lib/python3.7/dist-packages (1.7.1)\n",
            "Requirement already satisfied: mpmath>=0.19 in /usr/local/lib/python3.7/dist-packages (from sympy) (1.2.1)\n"
          ]
        }
      ],
      "source": [
        "#SymPy Package\n",
        "!pip install sympy"
      ]
    },
    {
      "cell_type": "markdown",
      "source": [
        "*SymPy* is a Python library for symbolic mathematics. It aims to become a full-featured computer algebra system (CAS) while keeping the code as simple as possible in order to be comprehensible and easily extensible. SymPy is written entirely in Python.\n",
        "\n",
        "\n",
        "https://www.sympy.org/en/index.html"
      ],
      "metadata": {
        "id": "Qea8Lg6rSccm"
      }
    },
    {
      "cell_type": "code",
      "source": [
        "import sympy as sym"
      ],
      "metadata": {
        "id": "1QLgzDWyTGOC"
      },
      "execution_count": null,
      "outputs": []
    },
    {
      "cell_type": "code",
      "source": [
        "x = sym.Symbol('x')"
      ],
      "metadata": {
        "id": "gmx7ityzTVVl"
      },
      "execution_count": null,
      "outputs": []
    },
    {
      "cell_type": "code",
      "source": [
        "sym.diff(x**5)"
      ],
      "metadata": {
        "colab": {
          "base_uri": "https://localhost:8080/",
          "height": 38
        },
        "id": "8MRspqheTqQ8",
        "outputId": "1b33ec26-b40c-44b0-9e37-e92c60d35618"
      },
      "execution_count": null,
      "outputs": [
        {
          "output_type": "execute_result",
          "data": {
            "text/latex": "$\\displaystyle 5 x y^{4}$",
            "text/plain": [
              "5*x y**4"
            ]
          },
          "metadata": {},
          "execution_count": 11
        }
      ]
    },
    {
      "cell_type": "code",
      "source": [
        "sym.diff(x**2 * sym.cos(x))"
      ],
      "metadata": {
        "colab": {
          "base_uri": "https://localhost:8080/",
          "height": 38
        },
        "id": "2fddvQjUUhwr",
        "outputId": "ae2b55c1-352b-4e53-99a2-43dd0448bb18"
      },
      "execution_count": null,
      "outputs": [
        {
          "output_type": "execute_result",
          "data": {
            "text/latex": "$\\displaystyle - x^{2} \\sin{\\left(x \\right)} + 2 x \\cos{\\left(x \\right)}$",
            "text/plain": [
              "-x**2*sin(x) + 2*x*cos(x)"
            ]
          },
          "metadata": {},
          "execution_count": 15
        }
      ]
    },
    {
      "cell_type": "code",
      "source": [
        "sym.diff(1 / (1 + sym.exp(-x)))"
      ],
      "metadata": {
        "colab": {
          "base_uri": "https://localhost:8080/",
          "height": 60
        },
        "id": "q7sSfT8qUyBK",
        "outputId": "d2a744bc-320a-4fe7-ea5c-d9acd855e730"
      },
      "execution_count": null,
      "outputs": [
        {
          "output_type": "execute_result",
          "data": {
            "text/latex": "$\\displaystyle \\frac{e^{- x}}{\\left(1 + e^{- x}\\right)^{2}}$",
            "text/plain": [
              "exp(-x)/(1 + exp(-x))**2"
            ]
          },
          "metadata": {},
          "execution_count": 18
        }
      ]
    },
    {
      "cell_type": "code",
      "source": [
        "x, y = sym.symbols('x y')"
      ],
      "metadata": {
        "id": "vKOeVEhGU9Hv"
      },
      "execution_count": null,
      "outputs": []
    },
    {
      "cell_type": "code",
      "source": [
        "sym.diff(x**2 * y, x)"
      ],
      "metadata": {
        "colab": {
          "base_uri": "https://localhost:8080/",
          "height": 38
        },
        "id": "feEKXtkkVRKE",
        "outputId": "ab4ddc87-e696-4216-a24f-b5df22c3f337"
      },
      "execution_count": null,
      "outputs": [
        {
          "output_type": "execute_result",
          "data": {
            "text/latex": "$\\displaystyle 2 x y$",
            "text/plain": [
              "2*x*y"
            ]
          },
          "metadata": {},
          "execution_count": 21
        }
      ]
    },
    {
      "cell_type": "code",
      "source": [
        "sym.diff(x**2 * y, y)"
      ],
      "metadata": {
        "colab": {
          "base_uri": "https://localhost:8080/",
          "height": 38
        },
        "id": "gBrRboP1Vb5l",
        "outputId": "d55f6797-ae6b-4883-90c3-6409e5eb322c"
      },
      "execution_count": null,
      "outputs": [
        {
          "output_type": "execute_result",
          "data": {
            "text/latex": "$\\displaystyle x^{2}$",
            "text/plain": [
              "x**2"
            ]
          },
          "metadata": {},
          "execution_count": 22
        }
      ]
    },
    {
      "cell_type": "code",
      "source": [
        "x, y, z = sym.symbols('x y z')"
      ],
      "metadata": {
        "id": "KPrBFqAkVdT0"
      },
      "execution_count": null,
      "outputs": []
    },
    {
      "cell_type": "code",
      "source": [
        "sym.diff(x**2 * y * z**3, z)"
      ],
      "metadata": {
        "colab": {
          "base_uri": "https://localhost:8080/",
          "height": 38
        },
        "id": "5QtF6T8HVjOq",
        "outputId": "7bc26843-12a1-4875-a59e-64c6d33e36ad"
      },
      "execution_count": null,
      "outputs": [
        {
          "output_type": "execute_result",
          "data": {
            "text/latex": "$\\displaystyle 3 x^{2} y z^{2}$",
            "text/plain": [
              "3*x**2*y*z**2"
            ]
          },
          "metadata": {},
          "execution_count": 24
        }
      ]
    },
    {
      "cell_type": "code",
      "source": [
        "sym.diff(x**2 * y * z**3, x)"
      ],
      "metadata": {
        "colab": {
          "base_uri": "https://localhost:8080/",
          "height": 38
        },
        "id": "zUc8ncVJVoD3",
        "outputId": "1dbd9e48-3644-46e2-ea9c-713b5d8b2615"
      },
      "execution_count": null,
      "outputs": [
        {
          "output_type": "execute_result",
          "data": {
            "text/latex": "$\\displaystyle 2 x y z^{3}$",
            "text/plain": [
              "2*x*y*z**3"
            ]
          },
          "metadata": {},
          "execution_count": 25
        }
      ]
    }
  ]
}