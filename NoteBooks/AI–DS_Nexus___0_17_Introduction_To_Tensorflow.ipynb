{
  "cells": [
    {
      "cell_type": "markdown",
      "source": [
        "#Introduction to TensorFlow"
      ],
      "metadata": {
        "id": "Qpme0Tri0S4v"
      }
    },
    {
      "cell_type": "code",
      "source": [
        "# !pip install --upgrade tensorflow"
      ],
      "metadata": {
        "id": "59GGABpl0aox"
      },
      "execution_count": null,
      "outputs": []
    },
    {
      "cell_type": "code",
      "source": [
        "# %tensorflow_version 1.x\n",
        "# !pip install numpy==1.19.5"
      ],
      "metadata": {
        "id": "SntVcgFFEvaW"
      },
      "execution_count": null,
      "outputs": []
    },
    {
      "cell_type": "code",
      "source": [
        "import tensorflow as tf"
      ],
      "metadata": {
        "id": "W9Brw_8l0fSO"
      },
      "execution_count": null,
      "outputs": []
    },
    {
      "cell_type": "code",
      "source": [
        "tf.__version__"
      ],
      "metadata": {
        "id": "dovvBhFhEjgl"
      },
      "execution_count": null,
      "outputs": []
    },
    {
      "cell_type": "code",
      "source": [
        "mnist = tf.keras.datasets.mnist"
      ],
      "metadata": {
        "id": "4F0V7IuD1VZX"
      },
      "execution_count": null,
      "outputs": []
    },
    {
      "cell_type": "code",
      "source": [
        "(x_train, y_train),(x_test, y_test) = mnist.load_data()\n",
        "x_train, x_test = x_train / 255.0, x_test / 255.0\n",
        "x_train.shape"
      ],
      "metadata": {
        "id": "BCpcDY8O1T7p"
      },
      "execution_count": null,
      "outputs": []
    },
    {
      "cell_type": "code",
      "source": [
        "import matplotlib.pyplot as plt\n",
        "# %matplotlib inline #in case of jupyter notbook\n",
        "m = 25\n",
        "plt.figure()\n",
        "plt.imshow(x_train[m])\n",
        "print('label = ', y_train[m])\n",
        "plt.colorbar()\n",
        "plt.grid(False)\n",
        "plt.show()"
      ],
      "metadata": {
        "id": "fR88X1X91j0N"
      },
      "execution_count": null,
      "outputs": []
    },
    {
      "cell_type": "code",
      "source": [
        "model = tf.keras.models.Sequential([\n",
        "  tf.keras.layers.Flatten(input_shape=(28, 28)),\n",
        "  tf.keras.layers.Dense(512, activation=tf.nn.relu),\n",
        "  tf.keras.layers.Dropout(0.2),\n",
        "  tf.keras.layers.Dense(10, activation=tf.nn.softmax)\n",
        "])"
      ],
      "metadata": {
        "id": "Qt33z5rF1YVh"
      },
      "execution_count": null,
      "outputs": []
    },
    {
      "cell_type": "code",
      "source": [
        "model.compile(optimizer='adam',\n",
        "              loss='sparse_categorical_crossentropy',\n",
        "              metrics=['accuracy'])"
      ],
      "metadata": {
        "id": "iMuBRLk61abT"
      },
      "execution_count": null,
      "outputs": []
    },
    {
      "cell_type": "code",
      "source": [
        "model.fit(x_train, y_train, epochs=5)"
      ],
      "metadata": {
        "id": "XCIp6Ckt1cOn"
      },
      "execution_count": null,
      "outputs": []
    },
    {
      "cell_type": "code",
      "source": [
        "model.evaluate(x_test, y_test)"
      ],
      "metadata": {
        "id": "k1Yi_tFH1eVZ"
      },
      "execution_count": null,
      "outputs": []
    },
    {
      "cell_type": "markdown",
      "source": [
        "##Creating Tensors\n",
        "### Constant Tensors\n",
        "\n",
        "|  Name | Description  |\n",
        "|---    |:---|\n",
        "|  [tf.zeros](https://www.tensorflow.org/api_docs/python/tf/zeros) | Creates a constant tensor of zeros of a given shape and type.  |\n",
        "|  [tf.zeros\\_like](https://www.tensorflow.org/api_docs/python/tf/zeros_like) |  Creates a constant tensor of zeros of the same shape as the input tensor. |\n",
        "| [tf.ones](https://www.tensorflow.org/api_docs/python/tf/ones)  | Creates a constant tensor of ones of a given shape and type.  |\n",
        "| [tf.ones\\_like](https://www.tensorflow.org/api_docs/python/tf/ones_like)  | Creates a constant tensor of  ones of the same shape as the input tensor.  |\n",
        "| [tf.linspace](https://www.tensorflow.org/api_docs/python/tf/linspace)  | Creates an evenly spaced tensor of values between supplied end points.  |\n",
        "\n",
        "The following example demonstrates some of these ops."
      ],
      "metadata": {
        "id": "zD6yo_zo5J_T"
      }
    },
    {
      "cell_type": "code",
      "source": [
        "# Create a bunch of zeros of a specific shape and type.\n",
        "x = tf.zeros([2, 2], dtype=tf.float64)\n",
        "print(\"tf.zeros example: %s\" % x)\n",
        "\n",
        "# tf.zeros_like is pretty useful. It creates a zero tensors which is\n",
        "# shaped like some other tensor you supply.\n",
        "x = tf.constant([[[1], [2]]])\n",
        "zeros_like_x = tf.zeros_like(x, dtype=tf.float32)\n",
        "\n",
        "print(\"Shape(x) = %s \\nShape(zeros_like_x) = %s\" %\n",
        "      (x.shape, zeros_like_x.shape))"
      ],
      "metadata": {
        "id": "6xRJXTZP5Wu4"
      },
      "execution_count": null,
      "outputs": []
    },
    {
      "cell_type": "markdown",
      "source": [
        "###Random Tensors\n",
        "\n",
        "  |  Name | Description  |\n",
        "  |---    |:---|\n",
        "  |  [tf.random.normal](https://www.tensorflow.org/api_docs/python/tf/random/normal) | Generates a constant tensor with independent normal entries.  |\n",
        "  |  [tf.random.uniform](https://www.tensorflow.org/api_docs/python/tf/random/uniform) |  Generates a constant tensor with uniformly distributed elements. |\n",
        "  |  [tf.random.gamma](https://www.tensorflow.org/api_docs/python/tf/random/gamma) |  Generates a constant tensor with gamma distributed elements. |\n",
        "  |  [tf.random.shuffle](https://www.tensorflow.org/api_docs/python/tf/random/shuffle) |  Takes an input tensor and randomly permutes the entries along the first dimension. |"
      ],
      "metadata": {
        "id": "_82De6bo50_f"
      }
    },
    {
      "cell_type": "code",
      "source": [
        "# Create a matrix with normally distributed entries.\n",
        "x = tf.random.normal([1, 3], mean=1.0, stddev=4.0, dtype=tf.float64)\n",
        "print(\"A random normal tensor: %s\" % x)\n",
        "\n",
        "# Randomly shuffle the first dimension of a tensor.\n",
        "r = tf.random.shuffle([1, 2, 3, 4])\n",
        "print(\"Random shuffle of [1,2,3,4]: %s\" % r)"
      ],
      "metadata": {
        "id": "DX_3Sz4q6JTe"
      },
      "execution_count": null,
      "outputs": []
    },
    {
      "cell_type": "markdown",
      "source": [
        "## Maths Ops\n",
        "\n",
        "- There is a whole suite of commonly needed math ops built in.\n",
        "- The inline form of the op allows you to e.g. write x + y instead of tf.add(x, y).\n",
        "\n",
        "| Name | Description | Inline form |\n",
        "| --- | --- | --- |\n",
        "| [tf.math.add](https://www.tensorflow.org/api_docs/python/tf/math/add) | Adds two tensors element wise | + |\n",
        "| [tf.math.subtract](https://www.tensorflow.org/api_docs/python/tf/math/subtract) | Subtracts two tensors element wise | - |\n",
        "| [tf.math.multiply](https://www.tensorflow.org/api_docs/python/tf/math/multiply) | Multiplies two tensors element wise | * |\n",
        "| [tf.math.divide](https://www.tensorflow.org/api_docs/python/tf/math/divide) | Divides two tensors element wise | / |\n",
        "| [tf.math.mod](https://www.tensorflow.org/api_docs/python/tf/math/floormod) | Computes the remainder of division element wise | % |\n",
        "\n",
        "\n",
        "- Note that the behaviour of \"/\" and \"//\" varies depending on python version and presence of `from __future__ import division`, to match how division behaves with ordinary python scalars.\n",
        "- The following table lists some more commonly needed functions:\n",
        "\n",
        "| Name | Description |\n",
        "| --- | --- |\n",
        "| [tf.math.exp](https://www.tensorflow.org/api_docs/python/tf/math/exp) | The exponential of the argument element wise. |\n",
        "| [tf.math.log](https://www.tensorflow.org/api_docs/python/tf/math/log) | The natural log element wise |\n",
        "| [tf.math.sqrt](https://www.tensorflow.org/api_docs/python/tf/math/sqrt) | Square root element wise |\n",
        "| [tf.math.round](https://www.tensorflow.org/api_docs/python/tf/math/round) | Rounds to the nearest integer element wise |\n",
        "| [tf.math.maximum](https://www.tensorflow.org/api_docs/python/tf/math/maximum) | Maximum of two tensors element wise. |"
      ],
      "metadata": {
        "id": "OVx9Kv8_6iru"
      }
    },
    {
      "cell_type": "markdown",
      "source": [
        "## Matrix Ops\n",
        "* Matrices are rank 2 tensors. There is a suite of ops for doing matrix manipulations.\n",
        "\n",
        "| Name | Description |\n",
        "| --- | --- |\n",
        "| [tf.linalg.matrix_diag](https://www.tensorflow.org/api_docs/python/tf/linalg/diag) | Creates a tensor from its diagonal |\n",
        "| [tf.linalg.trace](https://www.tensorflow.org/api_docs/python/tf/linalg/trace) | Computes the sum of the diagonal elements of a matrix. |\n",
        "| [tf.linalg.matrix\\_determinant](https://www.tensorflow.org/api_docs/python/tf/linalg/det) | Computes the determinant of a matrix (square only) |\n",
        "| [tf.linalg.matmul](https://www.tensorflow.org/api_docs/python/tf/linalg/matmul) | Multiplies two matrices |\n",
        "| [tf.linalg.matrix\\_inverse](https://www.tensorflow.org/api_docs/python/tf/linalg/inv) | Computes the inverse of the matrix (square only) |"
      ],
      "metadata": {
        "id": "VYAwLcqf74JJ"
      }
    },
    {
      "cell_type": "code",
      "source": [
        "x = tf.random.normal([3, 3], mean=1.0, stddev=4.0, dtype=tf.float64)\n",
        "y = tf.random.normal([3, 3], mean=1.0, stddev=4.0, dtype=tf.float64)\n",
        "print(\"x:\", x , \"y:\", y)\n"
      ],
      "metadata": {
        "id": "90HSR9CBPOQM"
      },
      "execution_count": null,
      "outputs": []
    },
    {
      "cell_type": "markdown",
      "source": [
        "## Logical And Comparison Ops\n",
        "\n",
        "- Tensorflow has the full complement of logical operators you would expect.\n",
        "- These are also overloaded so you can use their inline version.\n",
        "- The ops most frequently used are as follows:\n",
        "\n",
        "| Name | Description | Inline form |\n",
        "| --- | --- | --- |\n",
        "| [tf.equal](https://www.tensorflow.org/api_docs/python/tf/math/equal) | Element wise equality | **None** |\n",
        "| [tf.less](https://www.tensorflow.org/api_docs/python/tf/math/less) | Element wise less than | < |\n",
        "| [tf.less\\_equal](https://www.tensorflow.org/api_docs/python/tf/math/less_equal) | Element wise less than or equal to | <= |\n",
        "| [tf.greater](https://www.tensorflow.org/api_docs/python/tf/math/greater) |  Element wise greater than | > |\n",
        "| [tf.greater\\_equal](https://www.tensorflow.org/api_docs/python/tf/math/greater_equal) | Element wise greater than or equal to | >= |\n",
        "| [tf.logical\\_and](https://www.tensorflow.org/api_docs/python/tf/math/logical_and) | Element wise And | & |\n",
        "| [tf.logical\\_or](https://www.tensorflow.org/api_docs/python/tf/math/logical_or) | Element wise Or | &#124; |\n",
        "\n",
        "- Note that tf.equal doesn't have an inline form. Comparing two tensors with == will use the default python comparison. It will **not** call tf.equal.\n",
        "\n",
        "\n"
      ],
      "metadata": {
        "id": "crM_pK2p70JX"
      }
    },
    {
      "cell_type": "markdown",
      "source": [
        "## Aggregations and Scans\n",
        "\n",
        "Most of the ops we have seen so far, act on the input tensors in an element wise manner. Another important set of operators allow you to do aggregations on a whole tensor as well as scan the tensor.\n",
        "\n",
        "- Aggregations (or reductions) act on a tensor and produce a reduced dimension tensor. The main ops here are\n",
        "\n",
        "| Name | Description |\n",
        "| --- | --- |\n",
        "| [tf.reduce\\_sum](https://www.tensorflow.org/api_docs/python/tf/math/reduce_sum) | Sum of elements along all or some dimensions. |\n",
        "| [tf.reduce\\_mean](https://www.tensorflow.org/api_docs/python/tf/math/reduce_mean) | Average of elements along all or some dimensions. |\n",
        "| [tf.reduce\\_min](https://www.tensorflow.org/api_docs/python/tf/math/reduce_min) | Minimum of elements along all or some dimensions. |\n",
        "| [tf.reduce\\_max](https://www.tensorflow.org/api_docs/python/tf/math/reduce_max) | Maximum of elements along all or some dimensions. |\n",
        "\n",
        "- and for boolean tensors only\n",
        "\n",
        "| Name | Description |\n",
        "| --- | --- |\n",
        "| [tf.reduce\\_any](https://www.tensorflow.org/api_docs/python/tf/math/reduce_any) | Result of logical OR along all or some dimensions. |\n",
        "| [tf.reduce\\_all](https://www.tensorflow.org/api_docs/python/tf/math/reduce_all) | Result of logical AND along all or some dimensions. |\n",
        "\n",
        "\n",
        "- Scan act on a tensor and produce a tensor of the same dimension.\n",
        "\n",
        "| Name | Description |\n",
        "| --- | --- |\n",
        "| [tf.cumsum](https://www.tensorflow.org/api_docs/python/tf/math/cumsum) | Cumulative sum of elements along an axis. |\n",
        "| [tf.cumprod](https://www.tensorflow.org/api_docs/python/tf/math/cumprod) | Cumulative product of elements along an axis. |\n"
      ],
      "metadata": {
        "id": "CBUBTjYF8DIb"
      }
    },
    {
      "cell_type": "markdown",
      "source": [
        "## Quiz: Normal Density\n",
        "\n",
        "\n",
        "- In the following mini-codelab, you are asked to compute the normal density using the ops you have seen so far.\n",
        "- You first generate a sample of points at which you will evaluate the density.\n",
        "- The points are generated using a normal distribution (need not be the same one whose density you are evaluating).\n",
        "- This is done by the function **generate\\_normal\\_draws** below.\n",
        "- The function **normal\\_density\\_at** computes the density at any given set of points.\n",
        "- You have to complete the code of these two functions so they work as expected.\n",
        "- Execute the code and check that the test passes.\n",
        "\n",
        "### Hints\n",
        "- Recall that the normal density is given by  \n",
        "  $f(x) = \\frac{1}{\\sqrt{2\\pi\\sigma^2}} e^{-\\frac{(x-\\mu)^2}{2\\sigma^2}}$\n",
        "- Here $\\mu$ is the mean of the distribution and $\\sigma > 0$ is the standard deviation.\n",
        "- Pay attention to the data types mentioned in the function documentations. You should ensure that your implementations respect the data types stated."
      ],
      "metadata": {
        "id": "VCKnkKYA9shj"
      }
    },
    {
      "cell_type": "code",
      "source": [
        "#@title Mini-codelab: Compute the normal density.\n",
        "\n",
        "import numpy as np\n",
        "import numpy.testing as npt\n",
        "from scipy import stats\n",
        "\n",
        "def generate_normal_draws(shape, mean=0.0, stddev=1.0):\n",
        "  \"\"\"Generates a tensor drawn from a 1D normal distribution.\n",
        "\n",
        "    Creates a constant tensor of the supplied shape whose elements are drawn\n",
        "    independently from a normal distribution with the supplied parameters.\n",
        "\n",
        "    Args:\n",
        "      shape: An int32 tensor. Specifies the shape of the return value.\n",
        "      mean: A float32 value. The mean of the normal distribution.\n",
        "      stddev: A positive float32 value. The standard deviation of the\n",
        "        distribution.\n",
        "\n",
        "    Returns:\n",
        "      A constant float32 tensor whose elements are normally distributed.\n",
        "  \"\"\"\n",
        "\n",
        "  # to-do: Complete this function.\n",
        "  pass\n",
        "\n",
        "def normal_density_at(x, mean=0.0, stddev=1.0):\n",
        "  \"\"\"Computes the normal density at the supplied points.\n",
        "\n",
        "    Args:\n",
        "      x: A float32 tensor at which the density is to be computed.\n",
        "      mean: A float32. The mean of the distribution.\n",
        "      stddev: A positive float32. The standard deviation of the distribution.\n",
        "\n",
        "    Returns:\n",
        "      A float32 tensor of the normal density evaluated at the supplied points.\n",
        "  \"\"\"\n",
        "\n",
        "  # to-do: Complete this function. As a reminder, the normal density is\n",
        "  # f(x) = exp(-(x-mu)^2/(2*stddev^2)) / sqrt(2 pi stddev^2).\n",
        "  # The value of pi can be accessed as np.pi.\n",
        "  pass\n",
        "\n",
        "def test():\n",
        "  mu, sd = 1.1, 2.1\n",
        "  x = generate_normal_draws([2, 3, 5], mean=mu, stddev=sd)\n",
        "  pdf = normal_density_at(x)\n",
        "  npt.assert_array_equal(x.shape, [2,3,5], 'Shape is incorrect')\n",
        "  norm = stats.norm()\n",
        "  npt.assert_allclose(pdf, norm.pdf(x), atol=1e-6)\n",
        "  print (\"All good!\")\n",
        "\n",
        "test()"
      ],
      "metadata": {
        "id": "tM4YAi-R9r9D"
      },
      "execution_count": null,
      "outputs": []
    }
  ],
  "metadata": {
    "colab": {
      "private_outputs": true,
      "provenance": []
    },
    "kernelspec": {
      "display_name": "Python 3",
      "name": "python3"
    }
  },
  "nbformat": 4,
  "nbformat_minor": 0
}