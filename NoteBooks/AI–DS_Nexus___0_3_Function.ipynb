{
  "nbformat": 4,
  "nbformat_minor": 0,
  "metadata": {
    "colab": {
      "provenance": []
    },
    "kernelspec": {
      "name": "python3",
      "display_name": "Python 3"
    },
    "language_info": {
      "name": "python"
    }
  },
  "cells": [
    {
      "cell_type": "markdown",
      "metadata": {
        "id": "oa32Fuw2MUJP"
      },
      "source": [
        "#Function Types"
      ]
    },
    {
      "cell_type": "code",
      "metadata": {
        "id": "qWXyN4AQM1sE"
      },
      "source": [
        "import numpy as np"
      ],
      "execution_count": null,
      "outputs": []
    },
    {
      "cell_type": "code",
      "metadata": {
        "colab": {
          "base_uri": "https://localhost:8080/"
        },
        "id": "sR930KE1MOJv",
        "outputId": "3782485d-e1e5-4ef9-fc4e-392bf32524ed"
      },
      "source": [
        "#trigonometry مثلثات\n",
        "x = 0\n",
        "np.sin(x)\n",
        "np.cos(x)\n",
        "np.tan(x)\n",
        "np.arcsin(x)\n",
        "np.arccos(x)\n",
        "np.arctan(x)"
      ],
      "execution_count": null,
      "outputs": [
        {
          "output_type": "execute_result",
          "data": {
            "text/plain": [
              "0.0"
            ]
          },
          "metadata": {},
          "execution_count": 59
        }
      ]
    },
    {
      "cell_type": "code",
      "metadata": {
        "colab": {
          "base_uri": "https://localhost:8080/"
        },
        "id": "VhP-pMvGNfO9",
        "outputId": "dd1a9f2b-5252-41f8-fac9-7703995b9f3d"
      },
      "source": [
        "#basics\n",
        "x = 2\n",
        "np.exp(x)\n",
        "np.log(x)\n",
        "np.log2(x)\n",
        "np.sqrt(x)\n",
        "y = -2.5\n",
        "np.absolute(y)\n",
        "np.negative(x)\n",
        "np.ceil(y)\n",
        "np.floor(y)\n",
        "np.maximum(x, y)\n",
        "np.minimum(x, y)"
      ],
      "execution_count": null,
      "outputs": [
        {
          "output_type": "execute_result",
          "data": {
            "text/plain": [
              "-2.5"
            ]
          },
          "metadata": {},
          "execution_count": 60
        }
      ]
    },
    {
      "cell_type": "code",
      "metadata": {
        "colab": {
          "base_uri": "https://localhost:8080/"
        },
        "id": "snJvNRe5dHZV",
        "outputId": "be3d1981-8ac8-49ac-b4f1-d4a7420d2bad"
      },
      "source": [
        "#تابع مزدوج ساز (البته ویژه اعداد مختلط هست)\n",
        "np.conjugate(1-2j)"
      ],
      "execution_count": null,
      "outputs": [
        {
          "output_type": "execute_result",
          "data": {
            "text/plain": [
              "(1+2j)"
            ]
          },
          "metadata": {},
          "execution_count": 61
        }
      ]
    },
    {
      "cell_type": "code",
      "metadata": {
        "colab": {
          "base_uri": "https://localhost:8080/"
        },
        "id": "UMdbM84qPHXu",
        "outputId": "0450d39a-e67c-4f2c-8c2d-b00bc23224bf"
      },
      "source": [
        "#تابع باقیمانده (با حفظ علامت)\n",
        "x=[13, -14]\n",
        "y=5\n",
        "np.fmod(x, y) #preserve sign"
      ],
      "execution_count": null,
      "outputs": [
        {
          "output_type": "execute_result",
          "data": {
            "text/plain": [
              "array([ 3, -4])"
            ]
          },
          "metadata": {},
          "execution_count": 62
        }
      ]
    },
    {
      "cell_type": "code",
      "metadata": {
        "colab": {
          "base_uri": "https://localhost:8080/"
        },
        "id": "QVa2-QjjeQ5w",
        "outputId": "0af9129f-5506-4c69-c1b4-fc21ecf3b7ae"
      },
      "source": [
        "x = np.array([-3, -2.6], dtype=np.int32)\n",
        "x\n",
        "np.fabs(x)"
      ],
      "execution_count": null,
      "outputs": [
        {
          "output_type": "execute_result",
          "data": {
            "text/plain": [
              "array([3., 2.])"
            ]
          },
          "metadata": {},
          "execution_count": 63
        }
      ]
    },
    {
      "cell_type": "code",
      "metadata": {
        "colab": {
          "base_uri": "https://localhost:8080/"
        },
        "id": "CQjEe1J3e4lN",
        "outputId": "081f0802-d993-463e-816d-30682cd14ed2"
      },
      "source": [
        "#تابع وتر\n",
        "x=[3, 8]\n",
        "y=[4, 6]\n",
        "np.hypot(x, y)"
      ],
      "execution_count": null,
      "outputs": [
        {
          "output_type": "execute_result",
          "data": {
            "text/plain": [
              "array([ 5., 10.])"
            ]
          },
          "metadata": {},
          "execution_count": 64
        }
      ]
    },
    {
      "cell_type": "code",
      "metadata": {
        "colab": {
          "base_uri": "https://localhost:8080/"
        },
        "id": "NP3NE0FfdStu",
        "outputId": "112f02ea-d7d6-4ee0-a7f5-f4b16351980e"
      },
      "source": [
        "#hyperbolic هیپربولیک\n",
        "x = 0\n",
        "np.sinh(x)\n",
        "np.cosh(x)"
      ],
      "execution_count": null,
      "outputs": [
        {
          "output_type": "execute_result",
          "data": {
            "text/plain": [
              "1.0"
            ]
          },
          "metadata": {},
          "execution_count": 65
        }
      ]
    },
    {
      "cell_type": "code",
      "metadata": {
        "colab": {
          "base_uri": "https://localhost:8080/",
          "height": 257
        },
        "id": "78siGUCV3Fux",
        "outputId": "ea966160-2357-4668-be6b-6ee40c4840f8"
      },
      "source": [
        "import matplotlib.pyplot as plt\n",
        "import numpy as np\n",
        "\n",
        "# 100 linearly spaced numbers\n",
        "x = np.linspace(-5,5,100)\n",
        "\n",
        "# the function, which is y = x^2 here\n",
        "y = 1 / (1+np.exp(-x))\n",
        "\n",
        "# setting the axes at the centre\n",
        "fig = plt.figure()\n",
        "ax = fig.add_subplot(1, 1, 1)\n",
        "ax.spines['left'].set_position('center')\n",
        "ax.spines['bottom'].set_position('zero')\n",
        "ax.spines['right'].set_color('none')\n",
        "ax.spines['top'].set_color('none')\n",
        "ax.xaxis.set_ticks_position('bottom')\n",
        "ax.yaxis.set_ticks_position('left')\n",
        "\n",
        "# plot the function\n",
        "plt.plot(x,y, 'r')\n",
        "\n",
        "# show the plot\n",
        "plt.show()"
      ],
      "execution_count": null,
      "outputs": [
        {
          "output_type": "display_data",
          "data": {
            "image/png": "[encoded data removed]",
            "text/plain": [
              "<Figure size 432x288 with 1 Axes>"
            ]
          },
          "metadata": {
            "needs_background": "light"
          }
        }
      ]
    }
  ]
}