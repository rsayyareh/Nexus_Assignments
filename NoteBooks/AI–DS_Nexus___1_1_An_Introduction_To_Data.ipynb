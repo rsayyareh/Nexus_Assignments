{
  "nbformat": 4,
  "nbformat_minor": 0,
  "metadata": {
    "colab": {
      "provenance": []
    },
    "kernelspec": {
      "name": "python3",
      "display_name": "Python 3"
    },
    "language_info": {
      "name": "python"
    }
  },
  "cells": [
    {
      "cell_type": "markdown",
      "source": [
        "# 📊🧠 **Data Mastery: First Steps in Data Handling**\n",
        "*Course: AI/DS Nexus by Reza Shokrzad*\n",
        "\n",
        "Welcome to your **first hands-on notebook** for mastering data across modalities! This notebook walks you through:\n",
        "- 🧾 Reading and exploring tabular `.csv` files\n",
        "- 📚 Working with raw and structured **text data**\n",
        "- 🖼️ Loading and transforming **image data**\n",
        "- 🔊 Processing **audio signals**\n",
        "- 🌐 Using real datasets and corpora from popular libraries like **NLTK**, **TorchVision**, and **Librosa**\n",
        "\n",
        "Let's get started on your journey to become a data-savvy practitioner! 🚀"
      ],
      "metadata": {
        "id": "_Ejac9Wq-f8r"
      }
    },
    {
      "cell_type": "markdown",
      "source": [
        "## 🧾 Section 1: Working with Tabular Data (.csv)\n"
      ],
      "metadata": {
        "id": "73YF-yC2-nK_"
      }
    },
    {
      "cell_type": "code",
      "execution_count": null,
      "metadata": {
        "id": "kYIadk-U-EJ2"
      },
      "outputs": [],
      "source": [
        "import pandas as pd\n",
        "\n",
        "# 1. Read the CSV file\n",
        "df = pd.read_csv(\"your_file.csv\")\n",
        "\n",
        "# 2. Show the first 5 rows\n",
        "print(df.head())\n",
        "\n",
        "# 3. Check the shape (rows, columns)\n",
        "print(\"Shape:\", df.shape)\n",
        "\n",
        "# 4. Show column names\n",
        "print(\"Columns:\", df.columns.tolist())\n",
        "\n",
        "# 5. Check data types of each column\n",
        "print(df.dtypes)\n",
        "\n",
        "# 6. Get basic summary statistics\n",
        "print(df.describe())\n",
        "\n",
        "# 7. Check for missing values\n",
        "print(df.isnull().sum())\n",
        "\n",
        "# 8. See unique values in a specific column (e.g., \"Category\")\n",
        "print(df[\"Category\"].unique())  # Change \"Category\" to your actual column name\n",
        "\n",
        "# 9. Quick info summary\n",
        "df.info()"
      ]
    },
    {
      "cell_type": "markdown",
      "source": [
        "## 📚 Section 2: Working with Text and Strings\n",
        "\n"
      ],
      "metadata": {
        "id": "aEUJxrxM-sL0"
      }
    },
    {
      "cell_type": "code",
      "source": [
        "text = \"Hello, Python learners!\"\n",
        "print(text)\n",
        "print(type(text))  # <class 'str'>\n",
        "print(len(text))  # 23\n",
        "print(text[0])     # H\n",
        "print(text[-1])    # !\n",
        "print(text[0:5])   # Hello\n",
        "print(text.lower())\n",
        "print(text.upper())\n",
        "print(text.split())\n",
        "print(text.replace(\"Python\", \"World\"))\n",
        "\n",
        "name = \"Reza\"\n",
        "message = f\"Welcome, {name}!\"\n",
        "print(message)\n",
        "\n",
        "paragraph = \"\"\"Data science is fun. Python makes it easier. Let's learn together!\"\"\"\n",
        "sentences = paragraph.split('. ')\n",
        "print(\"Number of sentences:\", len(sentences))\n",
        "words = paragraph.split()\n",
        "print(\"Number of words:\", len(words))\n",
        "print(\"Unique words:\", set(words))\n"
      ],
      "metadata": {
        "id": "4FyD-TX1-qYZ"
      },
      "execution_count": null,
      "outputs": []
    },
    {
      "cell_type": "markdown",
      "source": [
        "## 📖 Section 3: Using NLTK for Text Corpus\n"
      ],
      "metadata": {
        "id": "phEcW66v-wr1"
      }
    },
    {
      "cell_type": "code",
      "source": [
        "# !pip install nltk\n",
        "import nltk\n",
        "nltk.download('gutenberg')\n",
        "nltk.download('punkt')\n",
        "\n",
        "from nltk.corpus import gutenberg\n",
        "print(gutenberg.fileids())\n",
        "text = gutenberg.raw('carroll-alice.txt')\n",
        "print(text[:500])\n",
        "\n",
        "from nltk.tokenize import word_tokenize\n",
        "tokens = word_tokenize(text)\n",
        "print(\"Number of words:\", len(tokens))\n",
        "\n",
        "from nltk.probability import FreqDist\n",
        "fdist = FreqDist(tokens)\n",
        "print(fdist.most_common(10))\n"
      ],
      "metadata": {
        "id": "Nu-gCi29-y2S"
      },
      "execution_count": null,
      "outputs": []
    },
    {
      "cell_type": "markdown",
      "source": [
        "## 🖼️ Section 4: Image Data Loading & Display\n"
      ],
      "metadata": {
        "id": "pjfCnLe6-0av"
      }
    },
    {
      "cell_type": "code",
      "source": [
        "from PIL import Image\n",
        "import matplotlib.pyplot as plt\n",
        "import numpy as np\n",
        "\n",
        "image = Image.open(\"your_image.jpg\")\n",
        "plt.imshow(image)\n",
        "plt.axis('off')\n",
        "plt.title(\"Loaded Image\")\n",
        "plt.show()\n",
        "\n",
        "image_array = np.array(image)\n",
        "print(\"Image shape:\", image_array.shape)\n"
      ],
      "metadata": {
        "id": "PZKIUPcQ-zPl"
      },
      "execution_count": null,
      "outputs": []
    },
    {
      "cell_type": "markdown",
      "source": [
        "## 📦 Section 5: TorchVision + CIFAR-10 Images\n"
      ],
      "metadata": {
        "id": "JBA1E3YF-3o6"
      }
    },
    {
      "cell_type": "code",
      "source": [
        "# !pip install torchvision\n",
        "import torchvision\n",
        "import torchvision.transforms as T\n",
        "\n",
        "transform = T.ToTensor()\n",
        "trainset = torchvision.datasets.CIFAR10(root='./data', train=True, download=True, transform=transform)\n",
        "\n",
        "image, label = trainset[0]\n",
        "print(\"Label:\", label)\n",
        "print(\"Image shape:\", image.shape)\n",
        "\n",
        "plt.imshow(image.permute(1, 2, 0))\n",
        "plt.title(f\"Label: {label}\")\n",
        "plt.axis('off')\n",
        "plt.show()\n",
        "\n",
        "print(\"Classes:\", trainset.classes)\n"
      ],
      "metadata": {
        "id": "3KU6f9gF-2ky"
      },
      "execution_count": null,
      "outputs": []
    },
    {
      "cell_type": "markdown",
      "source": [
        "## 🔊 Section 6: Audio Data with Librosa"
      ],
      "metadata": {
        "id": "zD_nGgHd-7Sb"
      }
    },
    {
      "cell_type": "code",
      "source": [
        "# !pip install librosa\n",
        "import librosa\n",
        "import librosa.display\n",
        "\n",
        "audio_path = \"your_audio.wav\"\n",
        "y, sr = librosa.load(audio_path)\n",
        "print(\"Audio signal shape:\", y.shape)\n",
        "print(\"Sampling rate:\", sr)\n",
        "print(\"Duration (s):\", librosa.get_duration(y=y, sr=sr))\n",
        "\n",
        "plt.figure(figsize=(10, 4))\n",
        "librosa.display.waveshow(y, sr=sr)\n",
        "plt.title(\"Waveform\")\n",
        "plt.xlabel(\"Time (s)\")\n",
        "plt.ylabel(\"Amplitude\")\n",
        "plt.tight_layout()\n",
        "plt.show()\n"
      ],
      "metadata": {
        "id": "_bQSXN9f-54m"
      },
      "execution_count": null,
      "outputs": []
    },
    {
      "cell_type": "markdown",
      "source": [
        "## 🎙️ Section 7: Audio with TorchAudio"
      ],
      "metadata": {
        "id": "HPSZC3rk--Er"
      }
    },
    {
      "cell_type": "code",
      "source": [
        "# !pip install torchaudio\n",
        "import torchaudio\n",
        "import torchaudio.transforms as T\n",
        "\n",
        "dataset = torchaudio.datasets.SPEECHCOMMANDS(\"./data\", download=True)\n",
        "waveform, sample_rate, label, *_ = dataset[0]\n",
        "\n",
        "print(\"Label:\", label)\n",
        "print(\"Waveform shape:\", waveform.shape)\n",
        "print(\"Sample rate:\", sample_rate)\n",
        "\n",
        "plt.figure(figsize=(10, 3))\n",
        "plt.plot(waveform.t().numpy())\n",
        "plt.title(f\"Label: {label}\")\n",
        "plt.xlabel(\"Time\")\n",
        "plt.ylabel(\"Amplitude\")\n",
        "plt.tight_layout()\n",
        "plt.show()\n"
      ],
      "metadata": {
        "id": "SXGN3ukb-9AB"
      },
      "execution_count": null,
      "outputs": []
    }
  ]
}