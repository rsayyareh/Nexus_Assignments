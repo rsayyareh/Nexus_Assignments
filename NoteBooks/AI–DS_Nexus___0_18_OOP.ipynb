{
  "cells": [
    {
      "cell_type": "code",
      "source": [
        "class Imath:\n",
        "  def __init__(self, v:int=1, c:int=2):\n",
        "    self.val = v\n",
        "    self.coef = c\n",
        "  def mul(self):\n",
        "    self.val *= self.coef\n",
        "\n",
        "  def __repr__(self):\n",
        "    return str(self.val)"
      ],
      "metadata": {
        "id": "gkscoZ8Y60i4"
      },
      "execution_count": null,
      "outputs": []
    },
    {
      "cell_type": "code",
      "source": [
        "a = Imath(v=10, c=3)"
      ],
      "metadata": {
        "id": "rtiKyn0q_2ml"
      },
      "execution_count": null,
      "outputs": []
    },
    {
      "cell_type": "code",
      "source": [
        "a.mul()"
      ],
      "metadata": {
        "id": "K_vau4sj_8Jc"
      },
      "execution_count": null,
      "outputs": []
    },
    {
      "cell_type": "code",
      "source": [
        "a.val"
      ],
      "metadata": {
        "colab": {
          "base_uri": "https://localhost:8080/"
        },
        "id": "Lw0a3DTBDwHH",
        "outputId": "b8b9b38a-e4bf-4170-feb9-1a720de89525"
      },
      "execution_count": null,
      "outputs": [
        {
          "output_type": "execute_result",
          "data": {
            "text/plain": [
              "30"
            ]
          },
          "metadata": {},
          "execution_count": 84
        }
      ]
    },
    {
      "cell_type": "code",
      "source": [
        "type(a)"
      ],
      "metadata": {
        "colab": {
          "base_uri": "https://localhost:8080/"
        },
        "id": "PvePcxjVAC_m",
        "outputId": "68ff6d51-3767-4574-ac41-2d3baa2971b7"
      },
      "execution_count": null,
      "outputs": [
        {
          "output_type": "execute_result",
          "data": {
            "text/plain": [
              "__main__.Imath"
            ]
          },
          "metadata": {},
          "execution_count": 85
        }
      ]
    },
    {
      "cell_type": "code",
      "source": [
        "id(a)"
      ],
      "metadata": {
        "colab": {
          "base_uri": "https://localhost:8080/"
        },
        "id": "r7J86N7vAFcJ",
        "outputId": "02b86cc1-8a9c-43b5-abb3-13302ba9bc30"
      },
      "execution_count": null,
      "outputs": [
        {
          "output_type": "execute_result",
          "data": {
            "text/plain": [
              "139969502435472"
            ]
          },
          "metadata": {},
          "execution_count": 86
        }
      ]
    },
    {
      "cell_type": "code",
      "source": [
        "a"
      ],
      "metadata": {
        "colab": {
          "base_uri": "https://localhost:8080/"
        },
        "id": "F9kzfJTFFP5h",
        "outputId": "7e6b2cd0-8554-4f99-a542-d6c194eda2c6"
      },
      "execution_count": null,
      "outputs": [
        {
          "output_type": "execute_result",
          "data": {
            "text/plain": [
              "30"
            ]
          },
          "metadata": {},
          "execution_count": 87
        }
      ]
    },
    {
      "cell_type": "code",
      "source": [
        "print(__name__)"
      ],
      "metadata": {
        "id": "Lfed_5UwIFGb",
        "outputId": "0569188c-4033-444f-b2df-58424538d176",
        "colab": {
          "base_uri": "https://localhost:8080/"
        }
      },
      "execution_count": null,
      "outputs": [
        {
          "output_type": "stream",
          "name": "stdout",
          "text": [
            "__main__\n"
          ]
        }
      ]
    }
  ],
  "metadata": {
    "colab": {
      "provenance": []
    },
    "kernelspec": {
      "display_name": "Python 3",
      "name": "python3"
    }
  },
  "nbformat": 4,
  "nbformat_minor": 0
}