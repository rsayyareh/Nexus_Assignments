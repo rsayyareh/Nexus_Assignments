{
  "nbformat": 4,
  "nbformat_minor": 0,
  "metadata": {
    "colab": {
      "provenance": []
    },
    "kernelspec": {
      "name": "python3",
      "display_name": "Python 3"
    },
    "language_info": {
      "name": "python"
    }
  },
  "cells": [
    {
      "cell_type": "markdown",
      "metadata": {
        "id": "eulQcooEfN3k"
      },
      "source": [
        "#Probabilities"
      ]
    },
    {
      "cell_type": "code",
      "metadata": {
        "colab": {
          "base_uri": "https://localhost:8080/"
        },
        "id": "M5k0o0h-6FiN",
        "outputId": "55f17f13-f45e-4aff-f2d2-e348ec40bee9"
      },
      "source": [
        "import math\n",
        "#فاکتوریل\n",
        "print(math.factorial(6))"
      ],
      "execution_count": null,
      "outputs": [
        {
          "output_type": "stream",
          "name": "stdout",
          "text": [
            "720\n"
          ]
        }
      ]
    },
    {
      "cell_type": "code",
      "metadata": {
        "id": "qR5OhE40rnHs"
      },
      "source": [
        "#شبیه‌سازی پرتاب سکه\n",
        "import random\n",
        "def coin_trial():\n",
        "    heads = 0\n",
        "    for i in range(100):\n",
        "      if random.random() <= 0.5:\n",
        "         heads +=1\n",
        "    return heads\n",
        "\n",
        "def simulate(n):\n",
        "    trials = []\n",
        "    for i in range(n):\n",
        "      trials.append(coin_trial())\n",
        "    return(sum(trials)/n)"
      ],
      "execution_count": null,
      "outputs": []
    },
    {
      "cell_type": "code",
      "metadata": {
        "colab": {
          "base_uri": "https://localhost:8080/"
        },
        "id": "r95sPRWisDJa",
        "outputId": "e6c251a7-2af9-4a40-c3be-9a237da88f08"
      },
      "source": [
        "simulate(10000)"
      ],
      "execution_count": null,
      "outputs": [
        {
          "output_type": "execute_result",
          "data": {
            "text/plain": [
              "50.0707"
            ]
          },
          "metadata": {},
          "execution_count": 30
        }
      ]
    },
    {
      "cell_type": "code",
      "metadata": {
        "colab": {
          "base_uri": "https://localhost:8080/",
          "height": 175
        },
        "id": "G0BUzw-a5Tmh",
        "outputId": "c4ab3a1d-9ea1-44f0-e645-368506c992cc"
      },
      "source": [
        "#یک مثال برای بررسی مفهوم احتمال\n",
        "import pandas as pd\n",
        "import numpy as np\n",
        "\n",
        "#create pandas DataFrame with raw data\n",
        "df = pd.DataFrame({'gender': np.repeat(np.array(['Male', 'Female']), 150),\n",
        "                   'sport': np.repeat(np.array(['Baseball', 'Basketball', 'Football',\n",
        "                                                'Soccer', 'Baseball', 'Basketball',\n",
        "                                                'Football', 'Soccer']),\n",
        "                                    (34, 40, 58, 18, 34, 52, 20, 44))})\n",
        "\n",
        "#produce contingency table to summarize raw data\n",
        "survey_data = pd.crosstab(index=df['gender'], columns=df['sport'], margins=True)\n",
        "\n",
        "#view contingency table\n",
        "survey_data"
      ],
      "execution_count": null,
      "outputs": [
        {
          "output_type": "execute_result",
          "data": {
            "text/html": [
              "<div>\n",
              "<style scoped>\n",
              "    .dataframe tbody tr th:only-of-type {\n",
              "        vertical-align: middle;\n",
              "    }\n",
              "\n",
              "    .dataframe tbody tr th {\n",
              "        vertical-align: top;\n",
              "    }\n",
              "\n",
              "    .dataframe thead th {\n",
              "        text-align: right;\n",
              "    }\n",
              "</style>\n",
              "<table border=\"1\" class=\"dataframe\">\n",
              "  <thead>\n",
              "    <tr style=\"text-align: right;\">\n",
              "      <th>sport</th>\n",
              "      <th>Baseball</th>\n",
              "      <th>Basketball</th>\n",
              "      <th>Football</th>\n",
              "      <th>Soccer</th>\n",
              "      <th>All</th>\n",
              "    </tr>\n",
              "    <tr>\n",
              "      <th>gender</th>\n",
              "      <th></th>\n",
              "      <th></th>\n",
              "      <th></th>\n",
              "      <th></th>\n",
              "      <th></th>\n",
              "    </tr>\n",
              "  </thead>\n",
              "  <tbody>\n",
              "    <tr>\n",
              "      <th>Female</th>\n",
              "      <td>34</td>\n",
              "      <td>52</td>\n",
              "      <td>20</td>\n",
              "      <td>44</td>\n",
              "      <td>150</td>\n",
              "    </tr>\n",
              "    <tr>\n",
              "      <th>Male</th>\n",
              "      <td>34</td>\n",
              "      <td>40</td>\n",
              "      <td>58</td>\n",
              "      <td>18</td>\n",
              "      <td>150</td>\n",
              "    </tr>\n",
              "    <tr>\n",
              "      <th>All</th>\n",
              "      <td>68</td>\n",
              "      <td>92</td>\n",
              "      <td>78</td>\n",
              "      <td>62</td>\n",
              "      <td>300</td>\n",
              "    </tr>\n",
              "  </tbody>\n",
              "</table>\n",
              "</div>"
            ],
            "text/plain": [
              "sport   Baseball  Basketball  Football  Soccer  All\n",
              "gender                                             \n",
              "Female        34          52        20      44  150\n",
              "Male          34          40        58      18  150\n",
              "All           68          92        78      62  300"
            ]
          },
          "metadata": {},
          "execution_count": 33
        }
      ]
    },
    {
      "cell_type": "code",
      "metadata": {
        "colab": {
          "base_uri": "https://localhost:8080/"
        },
        "id": "qvwkvj3GdMBP",
        "outputId": "cc8e0a70-1d98-4026-cb65-d769001a056b"
      },
      "source": [
        "#extract value in second row and first column\n",
        "survey_data.iloc[2, 1]"
      ],
      "execution_count": null,
      "outputs": [
        {
          "output_type": "execute_result",
          "data": {
            "text/plain": [
              "92"
            ]
          },
          "metadata": {},
          "execution_count": 35
        }
      ]
    },
    {
      "cell_type": "code",
      "metadata": {
        "colab": {
          "base_uri": "https://localhost:8080/"
        },
        "id": "GC4R5wINdM1P",
        "outputId": "bef7cfe8-b48f-4ccc-acb8-7e43da37a471"
      },
      "source": [
        "#calculate probability of being male, given that individual prefers baseball\n",
        "survey_data.iloc[1, 0] / survey_data.iloc[2, 0]"
      ],
      "execution_count": null,
      "outputs": [
        {
          "output_type": "execute_result",
          "data": {
            "text/plain": [
              "0.5"
            ]
          },
          "metadata": {},
          "execution_count": 36
        }
      ]
    },
    {
      "cell_type": "code",
      "metadata": {
        "colab": {
          "base_uri": "https://localhost:8080/"
        },
        "id": "yEDeQYwjdO-F",
        "outputId": "2176c8d2-9d74-43da-8089-c0b9b59acca9"
      },
      "source": [
        "#calculate probability of preferring basketball, given that individual is female\n",
        "survey_data.iloc[0, 1] / survey_data.iloc[0, 4]"
      ],
      "execution_count": null,
      "outputs": [
        {
          "output_type": "execute_result",
          "data": {
            "text/plain": [
              "0.3466666666666667"
            ]
          },
          "metadata": {},
          "execution_count": 37
        }
      ]
    }
  ]
}