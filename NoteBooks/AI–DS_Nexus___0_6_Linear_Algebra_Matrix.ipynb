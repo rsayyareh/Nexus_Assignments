{
  "nbformat": 4,
  "nbformat_minor": 0,
  "metadata": {
    "colab": {
      "provenance": [],
      "collapsed_sections": [
        "6dJS0BLoGOEv",
        "ma7OgB-mH_My",
        "XaKdL6q3uMYh",
        "1Achf8uAvUrN",
        "l-5k3zs-vhpd",
        "9msEMNkfGbis",
        "2II3jSPoGmoh",
        "162OundAIIUk",
        "mZ-AENlIIg7a",
        "s6BqjAznIuOE",
        "4ATK73ybI39R",
        "iM3seQM6JCym",
        "JE-DkXIcJRl6",
        "cIEBw85vJYtq",
        "ysVObyauJymI",
        "rN1EGGyHJ8kb",
        "nSsxkZ61KM_d",
        "skqlj97aKXqo",
        "QXZnPOAEKgWq",
        "PDICCplFKm2k",
        "z_LHK_xUK3pF",
        "0aFkdIZ_LCdi",
        "v3FlKrutLkWu",
        "mVePyDCKL3wT"
      ]
    },
    "kernelspec": {
      "name": "python3",
      "display_name": "Python 3"
    },
    "language_info": {
      "name": "python"
    }
  },
  "cells": [
    {
      "cell_type": "markdown",
      "metadata": {
        "id": "Cjn_KFKphbDZ"
      },
      "source": [
        "#Linear Algebra (Matrix)"
      ]
    },
    {
      "cell_type": "markdown",
      "metadata": {
        "id": "xGbERqnUGLJV"
      },
      "source": [
        "#Matrix Operations"
      ]
    },
    {
      "cell_type": "markdown",
      "metadata": {
        "id": "6dJS0BLoGOEv"
      },
      "source": [
        "##Matrix Creation"
      ]
    },
    {
      "cell_type": "code",
      "metadata": {
        "id": "Pf5Tc4vIdwop"
      },
      "source": [
        "import numpy as np"
      ],
      "execution_count": null,
      "outputs": []
    },
    {
      "cell_type": "code",
      "metadata": {
        "colab": {
          "base_uri": "https://localhost:8080/"
        },
        "id": "b9WF0xRzFyTV",
        "outputId": "5dfe5e67-3cf1-4e41-d45a-22e4921664bd"
      },
      "source": [
        "A = np.array([[1,2,3,4] ,\n",
        "              [5,6,7,8] ,\n",
        "              [10 , 11 , 12 ,13] ,\n",
        "              [14,15,16,17]], dtype = (np.float16))\n",
        "A"
      ],
      "execution_count": null,
      "outputs": [
        {
          "output_type": "execute_result",
          "data": {
            "text/plain": [
              "array([[ 1.,  2.,  3.,  4.],\n",
              "       [ 5.,  6.,  7.,  8.],\n",
              "       [10., 11., 12., 13.],\n",
              "       [14., 15., 16., 17.]], dtype=float16)"
            ]
          },
          "metadata": {},
          "execution_count": 8
        }
      ]
    },
    {
      "cell_type": "code",
      "metadata": {
        "colab": {
          "base_uri": "https://localhost:8080/"
        },
        "id": "sY4sxK66GX4t",
        "outputId": "077b9eac-471c-4454-bb75-1e11853a537a"
      },
      "source": [
        "print(type(A))\n",
        "print(A.dtype)"
      ],
      "execution_count": null,
      "outputs": [
        {
          "output_type": "stream",
          "name": "stdout",
          "text": [
            "<class 'numpy.ndarray'>\n",
            "float16\n"
          ]
        }
      ]
    },
    {
      "cell_type": "code",
      "metadata": {
        "colab": {
          "base_uri": "https://localhost:8080/"
        },
        "id": "WqRx7pHNGitP",
        "outputId": "a4b79ab3-a516-40b9-e947-50c9fd4252aa"
      },
      "source": [
        "B = np.array([[1.5,2.07,3,4] , [5,6,7,8] , [10 , 11 , 12 ,13] , [14,15,16,17]])\n",
        "B"
      ],
      "execution_count": null,
      "outputs": [
        {
          "output_type": "execute_result",
          "data": {
            "text/plain": [
              "array([[ 1.5 ,  2.07,  3.  ,  4.  ],\n",
              "       [ 5.  ,  6.  ,  7.  ,  8.  ],\n",
              "       [10.  , 11.  , 12.  , 13.  ],\n",
              "       [14.  , 15.  , 16.  , 17.  ]])"
            ]
          },
          "metadata": {},
          "execution_count": 10
        }
      ]
    },
    {
      "cell_type": "code",
      "metadata": {
        "colab": {
          "base_uri": "https://localhost:8080/"
        },
        "id": "Ls-8a0I9GwSx",
        "outputId": "a41b5e94-5a17-4df4-d469-0a07e0b67bea"
      },
      "source": [
        "print(type(B))\n",
        "print(B.dtype)"
      ],
      "execution_count": null,
      "outputs": [
        {
          "output_type": "stream",
          "name": "stdout",
          "text": [
            "<class 'numpy.ndarray'>\n",
            "float64\n"
          ]
        }
      ]
    },
    {
      "cell_type": "code",
      "metadata": {
        "colab": {
          "base_uri": "https://localhost:8080/"
        },
        "id": "kqNzgDvZGz7G",
        "outputId": "6b294135-a18e-4b5f-eb60-3887378e7d83"
      },
      "source": [
        "A.shape"
      ],
      "execution_count": null,
      "outputs": [
        {
          "output_type": "execute_result",
          "data": {
            "text/plain": [
              "(4, 4)"
            ]
          },
          "metadata": {},
          "execution_count": 12
        }
      ]
    },
    {
      "cell_type": "code",
      "metadata": {
        "colab": {
          "base_uri": "https://localhost:8080/"
        },
        "id": "G_fDB_W1HBD3",
        "outputId": "90f68215-4ff9-4de0-dc1b-4f85a6916491"
      },
      "source": [
        "A[0]"
      ],
      "execution_count": null,
      "outputs": [
        {
          "output_type": "execute_result",
          "data": {
            "text/plain": [
              "array([1., 2., 3., 4.], dtype=float16)"
            ]
          },
          "metadata": {},
          "execution_count": 13
        }
      ]
    },
    {
      "cell_type": "code",
      "metadata": {
        "colab": {
          "base_uri": "https://localhost:8080/"
        },
        "id": "HzbeFFb-Hv1u",
        "outputId": "28188795-f2f6-4595-a6ea-2072a8bec358"
      },
      "source": [
        "A[0][0]"
      ],
      "execution_count": null,
      "outputs": [
        {
          "output_type": "execute_result",
          "data": {
            "text/plain": [
              "1.0"
            ]
          },
          "metadata": {},
          "execution_count": 14
        }
      ]
    },
    {
      "cell_type": "code",
      "metadata": {
        "colab": {
          "base_uri": "https://localhost:8080/"
        },
        "id": "tTQFbmwBHF0K",
        "outputId": "46720ef0-5ab6-493e-8704-6b1905f3ea76"
      },
      "source": [
        "A[1:3]"
      ],
      "execution_count": null,
      "outputs": [
        {
          "output_type": "execute_result",
          "data": {
            "text/plain": [
              "array([[ 5.,  6.,  7.,  8.],\n",
              "       [10., 11., 12., 13.]], dtype=float16)"
            ]
          },
          "metadata": {},
          "execution_count": 15
        }
      ]
    },
    {
      "cell_type": "code",
      "metadata": {
        "colab": {
          "base_uri": "https://localhost:8080/"
        },
        "id": "Slmu17pYHTCN",
        "outputId": "70d73ffd-af51-4e4c-a053-9dce3c21abcf"
      },
      "source": [
        "A[1:3, 1:4]"
      ],
      "execution_count": null,
      "outputs": [
        {
          "output_type": "execute_result",
          "data": {
            "text/plain": [
              "array([[ 6.,  7.,  8.],\n",
              "       [11., 12., 13.]], dtype=float16)"
            ]
          },
          "metadata": {},
          "execution_count": 16
        }
      ]
    },
    {
      "cell_type": "markdown",
      "metadata": {
        "id": "ma7OgB-mH_My"
      },
      "source": [
        "##Zeros & Ones Matrix"
      ]
    },
    {
      "cell_type": "code",
      "metadata": {
        "colab": {
          "base_uri": "https://localhost:8080/"
        },
        "id": "ysqwi2y_H5jV",
        "outputId": "2f286aa6-c226-457b-afa2-0db4d93ba821"
      },
      "source": [
        "#روش اول برای تولید ماترس صفر با ابعاد دلخواه\n",
        "np.zeros(9).reshape(3,3)"
      ],
      "execution_count": null,
      "outputs": [
        {
          "output_type": "execute_result",
          "data": {
            "text/plain": [
              "array([[0., 0., 0.],\n",
              "       [0., 0., 0.],\n",
              "       [0., 0., 0.]])"
            ]
          },
          "metadata": {},
          "execution_count": 17
        }
      ]
    },
    {
      "cell_type": "code",
      "metadata": {
        "colab": {
          "base_uri": "https://localhost:8080/"
        },
        "id": "Nj8VHSwsIDLq",
        "outputId": "595ccc41-30cc-41fe-ca4f-4e3a362377c3"
      },
      "source": [
        "# روش دوم تولید ماتریس صفر\n",
        "np.zeros((3,3))"
      ],
      "execution_count": null,
      "outputs": [
        {
          "output_type": "execute_result",
          "data": {
            "text/plain": [
              "array([[0., 0., 0.],\n",
              "       [0., 0., 0.],\n",
              "       [0., 0., 0.]])"
            ]
          },
          "metadata": {},
          "execution_count": 18
        }
      ]
    },
    {
      "cell_type": "code",
      "metadata": {
        "colab": {
          "base_uri": "https://localhost:8080/"
        },
        "id": "LQbONYX-IPSk",
        "outputId": "383b5f88-4301-4e7f-921a-7c65c61f15a3"
      },
      "source": [
        "#روش اول برای تولید ماترس یک با ابعاد دلخواه\n",
        "np.ones(9).reshape(3,3)"
      ],
      "execution_count": null,
      "outputs": [
        {
          "output_type": "execute_result",
          "data": {
            "text/plain": [
              "array([[1., 1., 1.],\n",
              "       [1., 1., 1.],\n",
              "       [1., 1., 1.]])"
            ]
          },
          "metadata": {},
          "execution_count": 19
        }
      ]
    },
    {
      "cell_type": "code",
      "metadata": {
        "colab": {
          "base_uri": "https://localhost:8080/"
        },
        "id": "cTeRN4D3t-gp",
        "outputId": "d17df67c-8a5a-4a1c-c4f7-44fff223fa2c"
      },
      "source": [
        "# روش دوم تولید ماتریس یک\n",
        "np.ones((3,3))"
      ],
      "execution_count": null,
      "outputs": [
        {
          "output_type": "execute_result",
          "data": {
            "text/plain": [
              "array([[1., 1., 1.],\n",
              "       [1., 1., 1.],\n",
              "       [1., 1., 1.]])"
            ]
          },
          "metadata": {},
          "execution_count": 20
        }
      ]
    },
    {
      "cell_type": "markdown",
      "metadata": {
        "id": "XaKdL6q3uMYh"
      },
      "source": [
        "##Matrix with Random Numbers"
      ]
    },
    {
      "cell_type": "code",
      "metadata": {
        "colab": {
          "base_uri": "https://localhost:8080/"
        },
        "id": "1311E00VuEL9",
        "outputId": "870b1689-5fa7-4795-ed48-6b67b88c00c1"
      },
      "source": [
        "# np.random.seed(seed=42)\n",
        "X = np.random.random((3,3))\n",
        "X"
      ],
      "execution_count": null,
      "outputs": [
        {
          "output_type": "execute_result",
          "data": {
            "text/plain": [
              "array([[0.39211752, 0.34317802, 0.72904971],\n",
              "       [0.43857224, 0.0596779 , 0.39804426],\n",
              "       [0.73799541, 0.18249173, 0.17545176]])"
            ]
          },
          "metadata": {},
          "execution_count": 36
        }
      ]
    },
    {
      "cell_type": "markdown",
      "metadata": {
        "id": "1Achf8uAvUrN"
      },
      "source": [
        "##Identity Matrix"
      ]
    },
    {
      "cell_type": "code",
      "metadata": {
        "colab": {
          "base_uri": "https://localhost:8080/"
        },
        "id": "v2rfjL2KuSwz",
        "outputId": "e9e86821-080f-4ed2-b336-42bdf5c7f572"
      },
      "source": [
        "#ماتریس همانی مرتبه دلخواه\n",
        "I = np.eye(9)\n",
        "I"
      ],
      "execution_count": null,
      "outputs": [
        {
          "output_type": "execute_result",
          "data": {
            "text/plain": [
              "array([[1., 0., 0., 0., 0., 0., 0., 0., 0.],\n",
              "       [0., 1., 0., 0., 0., 0., 0., 0., 0.],\n",
              "       [0., 0., 1., 0., 0., 0., 0., 0., 0.],\n",
              "       [0., 0., 0., 1., 0., 0., 0., 0., 0.],\n",
              "       [0., 0., 0., 0., 1., 0., 0., 0., 0.],\n",
              "       [0., 0., 0., 0., 0., 1., 0., 0., 0.],\n",
              "       [0., 0., 0., 0., 0., 0., 1., 0., 0.],\n",
              "       [0., 0., 0., 0., 0., 0., 0., 1., 0.],\n",
              "       [0., 0., 0., 0., 0., 0., 0., 0., 1.]])"
            ]
          },
          "metadata": {},
          "execution_count": 37
        }
      ]
    },
    {
      "cell_type": "markdown",
      "metadata": {
        "id": "l-5k3zs-vhpd"
      },
      "source": [
        "##Diagonal Matrix"
      ]
    },
    {
      "cell_type": "code",
      "metadata": {
        "colab": {
          "base_uri": "https://localhost:8080/"
        },
        "id": "M0NtcqyPvf7-",
        "outputId": "36d80923-7acd-4bda-823f-9b9260f9ece3"
      },
      "source": [
        "D = np.diag([1,2,3,4,5,6,7,8])\n",
        "D"
      ],
      "execution_count": null,
      "outputs": [
        {
          "output_type": "execute_result",
          "data": {
            "text/plain": [
              "array([[1, 0, 0, 0, 0, 0, 0, 0],\n",
              "       [0, 2, 0, 0, 0, 0, 0, 0],\n",
              "       [0, 0, 3, 0, 0, 0, 0, 0],\n",
              "       [0, 0, 0, 4, 0, 0, 0, 0],\n",
              "       [0, 0, 0, 0, 5, 0, 0, 0],\n",
              "       [0, 0, 0, 0, 0, 6, 0, 0],\n",
              "       [0, 0, 0, 0, 0, 0, 7, 0],\n",
              "       [0, 0, 0, 0, 0, 0, 0, 8]])"
            ]
          },
          "metadata": {},
          "execution_count": 38
        }
      ]
    },
    {
      "cell_type": "markdown",
      "metadata": {
        "id": "9msEMNkfGbis"
      },
      "source": [
        "##Traingular Matrices (lower & Upper triangular matrix)"
      ]
    },
    {
      "cell_type": "code",
      "metadata": {
        "colab": {
          "base_uri": "https://localhost:8080/"
        },
        "id": "HNzyaLLuwCM7",
        "outputId": "35efc77c-09f7-4375-d27c-c81d180cacdf"
      },
      "source": [
        "M = np.random.randn(5,5)\n",
        "U = np.triu(M)\n",
        "L = np.tril(M)\n",
        "print(\"Matrix - \\n\" , M)\n",
        "print(\"\\n\")\n",
        "print(\"lower triangular matrix - \\n\" , L)\n",
        "print(\"\\n\")\n",
        "print(\"Upper triangular matrix - \\n\" , U)"
      ],
      "execution_count": null,
      "outputs": [
        {
          "output_type": "stream",
          "name": "stdout",
          "text": [
            "Matrix - \n",
            " [[-1.72766949 -0.39089979  0.57380586  0.33858905 -0.01183049]\n",
            " [ 2.39236527  0.41291216  0.97873601  2.23814334 -1.29408532]\n",
            " [-1.03878821  1.74371223 -0.79806274  0.02968323  1.06931597]\n",
            " [ 0.89070639  1.75488618  1.49564414  1.06939267 -0.77270871]\n",
            " [ 0.79486267  0.31427199 -1.32626546  1.41729905  0.80723653]]\n",
            "\n",
            "\n",
            "lower triangular matrix - \n",
            " [[-1.72766949  0.          0.          0.          0.        ]\n",
            " [ 2.39236527  0.41291216  0.          0.          0.        ]\n",
            " [-1.03878821  1.74371223 -0.79806274  0.          0.        ]\n",
            " [ 0.89070639  1.75488618  1.49564414  1.06939267  0.        ]\n",
            " [ 0.79486267  0.31427199 -1.32626546  1.41729905  0.80723653]]\n",
            "\n",
            "\n",
            "Upper triangular matrix - \n",
            " [[-1.72766949 -0.39089979  0.57380586  0.33858905 -0.01183049]\n",
            " [ 0.          0.41291216  0.97873601  2.23814334 -1.29408532]\n",
            " [ 0.          0.         -0.79806274  0.02968323  1.06931597]\n",
            " [ 0.          0.          0.          1.06939267 -0.77270871]\n",
            " [ 0.          0.          0.          0.          0.80723653]]\n"
          ]
        }
      ]
    },
    {
      "cell_type": "markdown",
      "metadata": {
        "id": "2II3jSPoGmoh"
      },
      "source": [
        "##Concatenate Matrices"
      ]
    },
    {
      "cell_type": "code",
      "metadata": {
        "colab": {
          "base_uri": "https://localhost:8080/"
        },
        "id": "m0cbByCIGkD9",
        "outputId": "fa8a4c5a-e3bb-4eff-c111-4e33a0de597e"
      },
      "source": [
        "A = np.array([[1,2] , [3,4] ,[5,6]])\n",
        "B = np.array([[1,1] , [1,1]])\n",
        "C = np.concatenate((A,B))\n",
        "C , C.shape , type(C) , C.dtype"
      ],
      "execution_count": null,
      "outputs": [
        {
          "output_type": "execute_result",
          "data": {
            "text/plain": [
              "(array([[1, 2],\n",
              "        [3, 4],\n",
              "        [5, 6],\n",
              "        [1, 1],\n",
              "        [1, 1]]), (5, 2), numpy.ndarray, dtype('int64'))"
            ]
          },
          "metadata": {},
          "execution_count": 48
        }
      ]
    },
    {
      "cell_type": "code",
      "metadata": {
        "colab": {
          "base_uri": "https://localhost:8080/"
        },
        "id": "eR47s6PlHkcM",
        "outputId": "ae2b55b8-6db2-416c-adb0-747a27cb0f59"
      },
      "source": [
        "M = np.full((3,2) , 8)\n",
        "print(M)\n",
        "print(M.shape)"
      ],
      "execution_count": null,
      "outputs": [
        {
          "output_type": "stream",
          "name": "stdout",
          "text": [
            "[[8 8]\n",
            " [8 8]\n",
            " [8 8]]\n",
            "(3, 2)\n"
          ]
        }
      ]
    },
    {
      "cell_type": "code",
      "metadata": {
        "colab": {
          "base_uri": "https://localhost:8080/"
        },
        "id": "8UTKMpmzH1aT",
        "outputId": "481d76bd-c98d-4aa5-c43d-801eb9a7f74b"
      },
      "source": [
        "M = M.flatten()\n",
        "print(M)\n",
        "print(M.shape)"
      ],
      "execution_count": null,
      "outputs": [
        {
          "output_type": "stream",
          "name": "stdout",
          "text": [
            "[8 8 8 8 8 8]\n",
            "(6,)\n"
          ]
        }
      ]
    },
    {
      "cell_type": "markdown",
      "metadata": {
        "id": "162OundAIIUk"
      },
      "source": [
        "##Matrix Addition"
      ]
    },
    {
      "cell_type": "code",
      "metadata": {
        "colab": {
          "base_uri": "https://localhost:8080/"
        },
        "id": "5-xqDzlQH5Bh",
        "outputId": "cd969196-d113-4035-9a72-ddc3cda3f4a4"
      },
      "source": [
        "M = np.array([[1,2,3],[4,-3,6],[7,8,0]])\n",
        "N = np.array([[1,1,1],[2,2,2],[3,3,3]])\n",
        "print(\"\\n First Matrix (M)  ==>  \\n\", M)\n",
        "print(\"\\n Second Matrix (N)  ==>  \\n\", N)\n",
        "C = M+N\n",
        "print(\"\\n Matrix Addition (M+N)  ==>  \\n\", C)\n",
        "# OR\n",
        "C = np.add(M,N,dtype = np.float64)\n",
        "print(\"\\n Matrix Addition using np.add  ==>  \\n\", C)"
      ],
      "execution_count": null,
      "outputs": [
        {
          "output_type": "stream",
          "name": "stdout",
          "text": [
            "\n",
            " First Matrix (M)  ==>  \n",
            " [[ 1  2  3]\n",
            " [ 4 -3  6]\n",
            " [ 7  8  0]]\n",
            "\n",
            " Second Matrix (N)  ==>  \n",
            " [[1 1 1]\n",
            " [2 2 2]\n",
            " [3 3 3]]\n",
            "\n",
            " Matrix Addition (M+N)  ==>  \n",
            " [[ 2  3  4]\n",
            " [ 6 -1  8]\n",
            " [10 11  3]]\n",
            "\n",
            " Matrix Addition using np.add  ==>  \n",
            " [[ 2.  3.  4.]\n",
            " [ 6. -1.  8.]\n",
            " [10. 11.  3.]]\n"
          ]
        }
      ]
    },
    {
      "cell_type": "markdown",
      "metadata": {
        "id": "mZ-AENlIIg7a"
      },
      "source": [
        "##Matrix subtraction"
      ]
    },
    {
      "cell_type": "code",
      "metadata": {
        "colab": {
          "base_uri": "https://localhost:8080/"
        },
        "id": "Dt90Zt0VIinX",
        "outputId": "7c9e17ff-e66c-4dc9-c34a-dcf61966aa58"
      },
      "source": [
        "#********************************************************#\n",
        "M = np.array([[1,2,3],[4,-3,6],[7,8,0]])\n",
        "N = np.array([[1,1,1],[2,2,2],[3,3,3]])\n",
        "print(\"\\n First Matrix (M)  ==>  \\n\", M)\n",
        "print(\"\\n Second Matrix (N)  ==>  \\n\", N)\n",
        "C = M-N\n",
        "print(\"\\n Matrix Subtraction (M-N)  ==>  \\n\", C)\n",
        "# OR\n",
        "C = np.subtract(M,N,dtype = np.float64)\n",
        "print(\"\\n Matrix Subtraction using np.subtract  ==>  \\n\", C)\n",
        "#********************************************************#"
      ],
      "execution_count": null,
      "outputs": [
        {
          "output_type": "stream",
          "name": "stdout",
          "text": [
            "\n",
            " First Matrix (M)  ==>  \n",
            " [[ 1  2  3]\n",
            " [ 4 -3  6]\n",
            " [ 7  8  0]]\n",
            "\n",
            " Second Matrix (N)  ==>  \n",
            " [[1 1 1]\n",
            " [2 2 2]\n",
            " [3 3 3]]\n",
            "\n",
            " Matrix Subtraction (M-N)  ==>  \n",
            " [[ 0  1  2]\n",
            " [ 2 -5  4]\n",
            " [ 4  5 -3]]\n",
            "\n",
            " Matrix Subtraction using np.subtract  ==>  \n",
            " [[ 0.  1.  2.]\n",
            " [ 2. -5.  4.]\n",
            " [ 4.  5. -3.]]\n"
          ]
        }
      ]
    },
    {
      "cell_type": "markdown",
      "metadata": {
        "id": "s6BqjAznIuOE"
      },
      "source": [
        "##Matrices Scalar Multiplication"
      ]
    },
    {
      "cell_type": "code",
      "metadata": {
        "colab": {
          "base_uri": "https://localhost:8080/"
        },
        "id": "HjeiPaZjIsA_",
        "outputId": "8607f232-4c65-4fb5-f67c-a5abc3a77428"
      },
      "source": [
        "M = np.array([[1,2,3],[4,-3,6],[7,8,0]])\n",
        "C = 10\n",
        "print(\"\\n Matrix (M)  ==>  \\n\", M)\n",
        "print(\"\\nMatrices Scalar Multiplication ==>  \\n\", C*M)\n",
        "# OR\n",
        "print(\"\\nMatrices Scalar Multiplication ==>  \\n\", np.multiply(C,M))"
      ],
      "execution_count": null,
      "outputs": [
        {
          "output_type": "stream",
          "name": "stdout",
          "text": [
            "\n",
            " Matrix (M)  ==>  \n",
            " [[ 1  2  3]\n",
            " [ 4 -3  6]\n",
            " [ 7  8  0]]\n",
            "\n",
            "Matrices Scalar Multiplication ==>  \n",
            " [[ 10  20  30]\n",
            " [ 40 -30  60]\n",
            " [ 70  80   0]]\n",
            "\n",
            "Matrices Scalar Multiplication ==>  \n",
            " [[ 10  20  30]\n",
            " [ 40 -30  60]\n",
            " [ 70  80   0]]\n"
          ]
        }
      ]
    },
    {
      "cell_type": "markdown",
      "metadata": {
        "id": "4ATK73ybI39R"
      },
      "source": [
        "##Transpose of a matrix"
      ]
    },
    {
      "cell_type": "code",
      "metadata": {
        "colab": {
          "base_uri": "https://localhost:8080/"
        },
        "id": "0IsczGYMI3eW",
        "outputId": "cb4c6124-4ccd-4c93-aff8-66b8267a2798"
      },
      "source": [
        "M = np.array([[1,2,3],[4,-3,6]])\n",
        "print(\"\\n Matrix (M)  ==>  \\n\", M)\n",
        "print(\"\\nTranspose of M ==>  \\n\", np.transpose(M))\n",
        "# OR\n",
        "print(\"\\nTranspose of M ==>  \\n\", M.T)"
      ],
      "execution_count": null,
      "outputs": [
        {
          "output_type": "stream",
          "name": "stdout",
          "text": [
            "\n",
            " Matrix (M)  ==>  \n",
            " [[ 1  2  3]\n",
            " [ 4 -3  6]]\n",
            "\n",
            "Transpose of M ==>  \n",
            " [[ 1  4]\n",
            " [ 2 -3]\n",
            " [ 3  6]]\n",
            "\n",
            "Transpose of M ==>  \n",
            " [[ 1  4]\n",
            " [ 2 -3]\n",
            " [ 3  6]]\n"
          ]
        }
      ]
    },
    {
      "cell_type": "markdown",
      "metadata": {
        "id": "iM3seQM6JCym"
      },
      "source": [
        "##Determinant of a matrix"
      ]
    },
    {
      "cell_type": "code",
      "metadata": {
        "id": "7X7M56xAJAT7",
        "colab": {
          "base_uri": "https://localhost:8080/"
        },
        "outputId": "2a9855da-f255-4467-8272-99e812fe096e"
      },
      "source": [
        "M = np.array([[1,2,3],[4,-3,6],[7,8,0]])\n",
        "print(\"\\n Matrix (M)  ==>  \\n\", M)\n",
        "print(\"\\nDeterminant of M ==>  \", np.linalg.det(M))"
      ],
      "execution_count": null,
      "outputs": [
        {
          "output_type": "stream",
          "name": "stdout",
          "text": [
            "\n",
            " Matrix (M)  ==>  \n",
            " [[ 1  2  3]\n",
            " [ 4 -3  6]\n",
            " [ 7  8  0]]\n",
            "\n",
            "Determinant of M ==>   195.0\n"
          ]
        }
      ]
    },
    {
      "cell_type": "markdown",
      "metadata": {
        "id": "JE-DkXIcJRl6"
      },
      "source": [
        "##Rank of a matrix"
      ]
    },
    {
      "cell_type": "code",
      "metadata": {
        "colab": {
          "base_uri": "https://localhost:8080/"
        },
        "id": "pO9aEOunJU5x",
        "outputId": "251ecd9a-d139-4c5c-9476-ad6bbe7aefa7"
      },
      "source": [
        "M = np.array([[1,2,3],[4,-3,6],[7,8,0]])\n",
        "print(\"\\n Matrix (M)  ==>  \\n\", M)\n",
        "print(\"\\nRank of M ==> \", np.linalg.matrix_rank(M))"
      ],
      "execution_count": null,
      "outputs": [
        {
          "output_type": "stream",
          "name": "stdout",
          "text": [
            "\n",
            " Matrix (M)  ==>  \n",
            " [[ 1  2  3]\n",
            " [ 4 -3  6]\n",
            " [ 7  8  0]]\n",
            "\n",
            "Rank of M ==>  3\n"
          ]
        }
      ]
    },
    {
      "cell_type": "markdown",
      "metadata": {
        "id": "cIEBw85vJYtq"
      },
      "source": [
        "##Trace of matrix"
      ]
    },
    {
      "cell_type": "code",
      "metadata": {
        "colab": {
          "base_uri": "https://localhost:8080/"
        },
        "id": "j3i0wF94JaIY",
        "outputId": "cd63bd79-cba4-4161-b4b9-383161fbee29"
      },
      "source": [
        "M = np.array([[1,2,3],[4,-3,6],[7,8,0]])\n",
        "print(\"\\n Matrix (M)  ==>  \\n\", M)\n",
        "print(\"\\nTrace of M ==> \", np.trace(M))"
      ],
      "execution_count": null,
      "outputs": [
        {
          "output_type": "stream",
          "name": "stdout",
          "text": [
            "\n",
            " Matrix (M)  ==>  \n",
            " [[ 1  2  3]\n",
            " [ 4 -3  6]\n",
            " [ 7  8  0]]\n",
            "\n",
            "Trace of M ==>  -2\n"
          ]
        }
      ]
    },
    {
      "cell_type": "markdown",
      "metadata": {
        "id": "ysVObyauJymI"
      },
      "source": [
        "##Inverse of matrix A"
      ]
    },
    {
      "cell_type": "code",
      "metadata": {
        "colab": {
          "base_uri": "https://localhost:8080/"
        },
        "id": "NOuQTKmuJw3N",
        "outputId": "eb9b401f-d537-466e-8b3a-911e50d0b895"
      },
      "source": [
        "M = np.array([[1,2,3],[4,-3,6],[7,8,0]])\n",
        "print(\"\\n Matrix (M)  ==>  \\n\", M)\n",
        "print(\"\\nInverse of M ==> \\n\", np.linalg.inv(M))"
      ],
      "execution_count": null,
      "outputs": [
        {
          "output_type": "stream",
          "name": "stdout",
          "text": [
            "\n",
            " Matrix (M)  ==>  \n",
            " [[ 1  2  3]\n",
            " [ 4 -3  6]\n",
            " [ 7  8  0]]\n",
            "\n",
            "Inverse of M ==> \n",
            " [[-0.24615385  0.12307692  0.10769231]\n",
            " [ 0.21538462 -0.10769231  0.03076923]\n",
            " [ 0.27179487  0.03076923 -0.05641026]]\n"
          ]
        }
      ]
    },
    {
      "cell_type": "markdown",
      "metadata": {
        "id": "rN1EGGyHJ8kb"
      },
      "source": [
        "##Matrix Multiplication (pointwise multiplication)"
      ]
    },
    {
      "cell_type": "code",
      "metadata": {
        "colab": {
          "base_uri": "https://localhost:8080/"
        },
        "id": "YX4OJngOJ7vG",
        "outputId": "4b9c9958-6f70-4e81-c5be-23a8f7b1c1ac"
      },
      "source": [
        "M = np.array([[1,2,3],[4,-3,6],[7,8,0]])\n",
        "N = np.array([[1,1,1],[2,2,2],[3,3,3]])\n",
        "print(\"\\n First Matrix (M)  ==>  \\n\", M)\n",
        "print(\"\\n Second Matrix (N)  ==>  \\n\", N)\n",
        "print(\"\\n Point-Wise Multiplication of M & N  ==> \\n\", M*N)\n",
        "# OR\n",
        "print(\"\\n Point-Wise Multiplication of M & N  ==> \\n\", np.multiply(M,N))"
      ],
      "execution_count": null,
      "outputs": [
        {
          "output_type": "stream",
          "name": "stdout",
          "text": [
            "\n",
            " First Matrix (M)  ==>  \n",
            " [[ 1  2  3]\n",
            " [ 4 -3  6]\n",
            " [ 7  8  0]]\n",
            "\n",
            " Second Matrix (N)  ==>  \n",
            " [[1 1 1]\n",
            " [2 2 2]\n",
            " [3 3 3]]\n",
            "\n",
            " Point-Wise Multiplication of M & N  ==> \n",
            " [[ 1  2  3]\n",
            " [ 8 -6 12]\n",
            " [21 24  0]]\n",
            "\n",
            " Point-Wise Multiplication of M & N  ==> \n",
            " [[ 1  2  3]\n",
            " [ 8 -6 12]\n",
            " [21 24  0]]\n"
          ]
        }
      ]
    },
    {
      "cell_type": "markdown",
      "metadata": {
        "id": "nSsxkZ61KM_d"
      },
      "source": [
        "##Matrix dot product"
      ]
    },
    {
      "cell_type": "code",
      "metadata": {
        "colab": {
          "base_uri": "https://localhost:8080/"
        },
        "id": "bQT1pcjBKLJD",
        "outputId": "42f57f0e-bc9e-49e0-fd05-77b2d3774689"
      },
      "source": [
        "M = np.array([[1,2,3],[4,-3,6],[7,8,0]])\n",
        "N = np.array([[1,1,1],[2,2,2],[3,3,3]])\n",
        "print(\"\\n First Matrix (M)  ==>  \\n\", M)\n",
        "print(\"\\n Second Matrix (N)  ==>  \\n\", N)\n",
        "print(\"\\n Matrix Dot Product ==> \\n\", M@N)\n",
        "# OR\n",
        "print(\"\\n Matrix Dot Product using np.matmul ==> \\n\", np.matmul(M,N))\n",
        "# OR\n",
        "print(\"\\n Matrix Dot Product using np.dot ==> \\n\", np.dot(M,N))"
      ],
      "execution_count": null,
      "outputs": [
        {
          "output_type": "stream",
          "name": "stdout",
          "text": [
            "\n",
            " First Matrix (M)  ==>  \n",
            " [[ 1  2  3]\n",
            " [ 4 -3  6]\n",
            " [ 7  8  0]]\n",
            "\n",
            " Second Matrix (N)  ==>  \n",
            " [[1 1 1]\n",
            " [2 2 2]\n",
            " [3 3 3]]\n",
            "\n",
            " Matrix Dot Product ==> \n",
            " [[14 14 14]\n",
            " [16 16 16]\n",
            " [23 23 23]]\n",
            "\n",
            " Matrix Dot Product using np.matmul ==> \n",
            " [[14 14 14]\n",
            " [16 16 16]\n",
            " [23 23 23]]\n",
            "\n",
            " Matrix Dot Product using np.dot ==> \n",
            " [[14 14 14]\n",
            " [16 16 16]\n",
            " [23 23 23]]\n"
          ]
        }
      ]
    },
    {
      "cell_type": "markdown",
      "metadata": {
        "id": "skqlj97aKXqo"
      },
      "source": [
        "##Matrix Division"
      ]
    },
    {
      "cell_type": "code",
      "metadata": {
        "colab": {
          "base_uri": "https://localhost:8080/"
        },
        "id": "mThzsE9EKVva",
        "outputId": "187993ea-6e43-45ba-b51a-6c5c75acd220"
      },
      "source": [
        "M = np.array([[1,2,3],[4,-3,6],[7,8,0]])\n",
        "N = np.array([[1,1,1],[2,2,2],[3,3,3]])\n",
        "print(\"\\n First Matrix (M)  ==>  \\n\", M)\n",
        "print(\"\\n Second Matrix (N)  ==>  \\n\", N)\n",
        "print(\"\\n Matrix Division (M/N)   ==> \\n\", M/N)\n",
        "# OR\n",
        "print(\"\\n Matrix Division (M/N)   ==> \\n\", np.divide(M,N))"
      ],
      "execution_count": null,
      "outputs": [
        {
          "output_type": "stream",
          "name": "stdout",
          "text": [
            "\n",
            " First Matrix (M)  ==>  \n",
            " [[ 1  2  3]\n",
            " [ 4 -3  6]\n",
            " [ 7  8  0]]\n",
            "\n",
            " Second Matrix (N)  ==>  \n",
            " [[1 1 1]\n",
            " [2 2 2]\n",
            " [3 3 3]]\n",
            "\n",
            " Matrix Division (M/N)   ==> \n",
            " [[ 1.          2.          3.        ]\n",
            " [ 2.         -1.5         3.        ]\n",
            " [ 2.33333333  2.66666667  0.        ]]\n",
            "\n",
            " Matrix Division (M/N)   ==> \n",
            " [[ 1.          2.          3.        ]\n",
            " [ 2.         -1.5         3.        ]\n",
            " [ 2.33333333  2.66666667  0.        ]]\n"
          ]
        }
      ]
    },
    {
      "cell_type": "markdown",
      "metadata": {
        "id": "QXZnPOAEKgWq"
      },
      "source": [
        "##Sum of all elements in a matrix"
      ]
    },
    {
      "cell_type": "code",
      "metadata": {
        "colab": {
          "base_uri": "https://localhost:8080/"
        },
        "id": "ayKH4KjTKeoj",
        "outputId": "71cebc33-fd61-437d-e936-d2891e143581"
      },
      "source": [
        "N = np.array([[1,1,1],[2,2,2],[3,3,3]])\n",
        "print(\"\\n Matrix (N)  ==>  \\n\", N)\n",
        "print (\"Sum of all elements in a Matrix  ==>\")\n",
        "print (np.sum(N))"
      ],
      "execution_count": null,
      "outputs": [
        {
          "output_type": "stream",
          "name": "stdout",
          "text": [
            "\n",
            " Matrix (N)  ==>  \n",
            " [[1 1 1]\n",
            " [2 2 2]\n",
            " [3 3 3]]\n",
            "Sum of all elements in a Matrix  ==>\n",
            "18\n"
          ]
        }
      ]
    },
    {
      "cell_type": "markdown",
      "metadata": {
        "id": "PDICCplFKm2k"
      },
      "source": [
        "##Column-Wise Addition"
      ]
    },
    {
      "cell_type": "code",
      "metadata": {
        "colab": {
          "base_uri": "https://localhost:8080/"
        },
        "id": "u6PlnCogKq9Z",
        "outputId": "4f96a249-6057-4742-e985-5938afec0408"
      },
      "source": [
        "N = np.array([[1,1,1],[2,2,2],[3,3,3]])\n",
        "print(\"\\n Matrix (N)  ==>  \\n\", N)\n",
        "print (\"Column-Wise summation ==> \")\n",
        "print (np.sum(N,axis=0))"
      ],
      "execution_count": null,
      "outputs": [
        {
          "output_type": "stream",
          "name": "stdout",
          "text": [
            "\n",
            " Matrix (N)  ==>  \n",
            " [[1 1 1]\n",
            " [2 2 2]\n",
            " [3 3 3]]\n",
            "Column-Wise summation ==> \n",
            "[6 6 6]\n"
          ]
        }
      ]
    },
    {
      "cell_type": "markdown",
      "metadata": {
        "id": "z_LHK_xUK3pF"
      },
      "source": [
        "##Row-Wise Addition"
      ]
    },
    {
      "cell_type": "code",
      "metadata": {
        "colab": {
          "base_uri": "https://localhost:8080/"
        },
        "id": "ZDBG2yWfK14J",
        "outputId": "f0148f43-b58a-4555-ab2b-b0e52e24bfc6"
      },
      "source": [
        "N = np.array([[1,1,1],[2,2,2],[3,3,3]])\n",
        "print(\"\\n Matrix (N)  ==>  \\n\", N)\n",
        "print (\"Row-Wise summation  ==>\")\n",
        "print (np.sum(N,axis=1))"
      ],
      "execution_count": null,
      "outputs": [
        {
          "output_type": "stream",
          "name": "stdout",
          "text": [
            "\n",
            " Matrix (N)  ==>  \n",
            " [[1 1 1]\n",
            " [2 2 2]\n",
            " [3 3 3]]\n",
            "Row-Wise summation  ==>\n",
            "[3 6 9]\n"
          ]
        }
      ]
    },
    {
      "cell_type": "markdown",
      "metadata": {
        "id": "0aFkdIZ_LCdi"
      },
      "source": [
        "##Matrix Vector Multiplication"
      ]
    },
    {
      "cell_type": "code",
      "metadata": {
        "colab": {
          "base_uri": "https://localhost:8080/"
        },
        "id": "6efenROPLAkR",
        "outputId": "04284fe1-1500-41f3-cf88-a3c297a66876"
      },
      "source": [
        "A = np.array([[1,2,3] ,[4,5,6]])\n",
        "v = np.array([10,20,30])\n",
        "print (\"Matrix Vector Multiplication  ==> \\n\" , A*v)"
      ],
      "execution_count": null,
      "outputs": [
        {
          "output_type": "stream",
          "name": "stdout",
          "text": [
            "Matrix Vector Multiplication  ==> \n",
            " [[ 10  40  90]\n",
            " [ 40 100 180]]\n"
          ]
        }
      ]
    },
    {
      "cell_type": "code",
      "metadata": {
        "colab": {
          "base_uri": "https://localhost:8080/"
        },
        "id": "zkUbKIS2Lg0C",
        "outputId": "d86604b5-61a9-4441-c667-bc51422f01d9"
      },
      "source": [
        "A = np.array([[1,2,3] ,[4,5,6]])\n",
        "v = np.array([10,20,30])\n",
        "print (\"Matrix Vector Multiplication  ==> \\n\" , A@v)"
      ],
      "execution_count": null,
      "outputs": [
        {
          "output_type": "stream",
          "name": "stdout",
          "text": [
            "Matrix Vector Multiplication  ==> \n",
            " [140 320]\n"
          ]
        }
      ]
    },
    {
      "cell_type": "markdown",
      "metadata": {
        "id": "v3FlKrutLkWu"
      },
      "source": [
        "#Tensor"
      ]
    },
    {
      "cell_type": "code",
      "metadata": {
        "id": "eA2ZhmupLh-_",
        "colab": {
          "base_uri": "https://localhost:8080/"
        },
        "outputId": "0c132337-17af-4529-abaf-a54fb745ebcf"
      },
      "source": [
        "# Create Tensor\n",
        "T1 = np.array([\n",
        "  [[1,2,3],    [4,5,6],    [7,8,9]],\n",
        "  [[10,20,30], [40,50,60], [70,80,90]],\n",
        "  [[100,200,300], [400,500,600], [700,800,900]],\n",
        "  ])\n",
        "T1"
      ],
      "execution_count": null,
      "outputs": [
        {
          "output_type": "execute_result",
          "data": {
            "text/plain": [
              "array([[[  1,   2,   3],\n",
              "        [  4,   5,   6],\n",
              "        [  7,   8,   9]],\n",
              "\n",
              "       [[ 10,  20,  30],\n",
              "        [ 40,  50,  60],\n",
              "        [ 70,  80,  90]],\n",
              "\n",
              "       [[100, 200, 300],\n",
              "        [400, 500, 600],\n",
              "        [700, 800, 900]]])"
            ]
          },
          "metadata": {},
          "execution_count": 80
        }
      ]
    },
    {
      "cell_type": "markdown",
      "metadata": {
        "id": "mVePyDCKL3wT"
      },
      "source": [
        "#Solving Equations $AX = B$\n",
        "\n"
      ]
    },
    {
      "cell_type": "code",
      "metadata": {
        "id": "OmnYkV76Lo6z",
        "colab": {
          "base_uri": "https://localhost:8080/"
        },
        "outputId": "dcca19b6-24af-481d-94fe-cfff8111113e"
      },
      "source": [
        "A = np.array([[1,2,3] , [4,5,6] , [7,8,8]])\n",
        "A"
      ],
      "execution_count": null,
      "outputs": [
        {
          "output_type": "execute_result",
          "data": {
            "text/plain": [
              "array([[1, 2, 3],\n",
              "       [4, 5, 6],\n",
              "       [7, 8, 8]])"
            ]
          },
          "metadata": {},
          "execution_count": 81
        }
      ]
    },
    {
      "cell_type": "code",
      "metadata": {
        "id": "jcANiZMgMQ-7",
        "colab": {
          "base_uri": "https://localhost:8080/"
        },
        "outputId": "ce3fe5e3-38c0-4df5-925b-03a6b326f673"
      },
      "source": [
        "B = np.random.random((3,1))\n",
        "B"
      ],
      "execution_count": null,
      "outputs": [
        {
          "output_type": "execute_result",
          "data": {
            "text/plain": [
              "array([[0.01612921],\n",
              "       [0.59443188],\n",
              "       [0.55678519]])"
            ]
          },
          "metadata": {},
          "execution_count": 82
        }
      ]
    },
    {
      "cell_type": "code",
      "metadata": {
        "id": "0t8wsqEKMTwn",
        "colab": {
          "base_uri": "https://localhost:8080/"
        },
        "outputId": "fec21b34-379a-47af-c43d-1ace4e94ae8b"
      },
      "source": [
        "X = np.dot(np.linalg.inv(A) , B)\n",
        "X"
      ],
      "execution_count": null,
      "outputs": [
        {
          "output_type": "execute_result",
          "data": {
            "text/plain": [
              "array([[ 0.98535527],\n",
              "       [-1.40853707],\n",
              "       [ 0.61594936]])"
            ]
          },
          "metadata": {},
          "execution_count": 83
        }
      ]
    },
    {
      "cell_type": "code",
      "metadata": {
        "id": "TM6OULmAMUcj",
        "colab": {
          "base_uri": "https://localhost:8080/"
        },
        "outputId": "23241a26-d88c-48fa-c7ca-6aa10440f1e2"
      },
      "source": [
        "X = np.matmul(np.linalg.inv(A) , B)\n",
        "X"
      ],
      "execution_count": null,
      "outputs": [
        {
          "output_type": "execute_result",
          "data": {
            "text/plain": [
              "array([[ 0.98535527],\n",
              "       [-1.40853707],\n",
              "       [ 0.61594936]])"
            ]
          },
          "metadata": {},
          "execution_count": 84
        }
      ]
    }
  ]
}