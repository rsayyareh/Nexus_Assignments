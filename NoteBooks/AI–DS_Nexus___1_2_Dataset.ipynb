{
  "nbformat": 4,
  "nbformat_minor": 0,
  "metadata": {
    "colab": {
      "provenance": []
    },
    "kernelspec": {
      "name": "python3",
      "display_name": "Python 3"
    },
    "language_info": {
      "name": "python"
    }
  },
  "cells": [
    {
      "cell_type": "markdown",
      "source": [
        "# 🏷️ ML Benchmark Hubs: Quick Data Loading & First-Look EDA\n",
        "* Sklearn\n",
        "* Hugging Face\n",
        "* Kaggle\n",
        "* UCI\n",
        "* OpenML"
      ],
      "metadata": {
        "id": "mWQeSF25i0vW"
      }
    },
    {
      "cell_type": "code",
      "execution_count": null,
      "metadata": {
        "id": "ht_LNxDHL2hu"
      },
      "outputs": [],
      "source": [
        "# Core\n",
        "import pandas as pd\n",
        "import numpy as np\n",
        "import matplotlib.pyplot as plt"
      ]
    },
    {
      "cell_type": "markdown",
      "source": [
        "## 1) Sklearn datasets 🌿\n",
        "* Load: Iris\n",
        "* Fetch: California Housing\n",
        "* Synthetic: “Moons”"
      ],
      "metadata": {
        "id": "UppSx7DnjEwY"
      }
    },
    {
      "cell_type": "code",
      "source": [
        "from sklearn.datasets import load_iris, fetch_california_housing, make_moons\n",
        "\n",
        "# --- Iris (toy, tabular) ---\n",
        "iris = load_iris()\n",
        "X_iris = iris.data\n",
        "y_iris = iris.target\n",
        "df_iris = pd.DataFrame(X_iris, columns=iris.feature_names)\n",
        "df_iris[\"target\"] = y_iris\n",
        "\n",
        "print(\"Iris shape:\", df_iris.shape)\n",
        "display(df_iris.head())\n",
        "print(df_iris.isna().sum().to_dict())\n",
        "\n"
      ],
      "metadata": {
        "id": "FwXktkhajC1q"
      },
      "execution_count": null,
      "outputs": []
    },
    {
      "cell_type": "code",
      "source": [
        "# --- California Housing (realistic, tabular) ---\n",
        "cal = fetch_california_housing()\n",
        "df_cal = pd.DataFrame(cal.data, columns=cal.feature_names)\n",
        "df_cal[\"MedHouseVal\"] = cal.target\n",
        "\n",
        "print(\"\\nCalifornia shape:\", df_cal.shape)\n",
        "display(df_cal.head())\n",
        "print(df_cal.isna().sum().to_dict())\n"
      ],
      "metadata": {
        "id": "3niAGQgcjQMw"
      },
      "execution_count": null,
      "outputs": []
    },
    {
      "cell_type": "code",
      "source": [
        "# --- Synthetic Moons (controlled patterns) ---\n",
        "X_moon, y_moon = make_moons(n_samples=400, noise=0.15)\n",
        "df_moon = pd.DataFrame(X_moon, columns=[\"x1\",\"x2\"])\n",
        "df_moon[\"label\"] = y_moon\n",
        "print(\"\\nMoons shape:\", df_moon.shape)\n",
        "display(df_moon.head())\n",
        "\n",
        "# Quick visuals (optional)\n",
        "plt.figure(figsize=(4,3))\n",
        "plt.scatter(df_moon[\"x1\"], df_moon[\"x2\"], c=df_moon[\"label\"])\n",
        "plt.title(\"make_moons() scatter\")\n",
        "plt.tight_layout()\n",
        "plt.show()\n"
      ],
      "metadata": {
        "id": "SoPvWxbjjRuf"
      },
      "execution_count": null,
      "outputs": []
    },
    {
      "cell_type": "markdown",
      "source": [
        "## 2) Hugging Face Datasets 🤗\n",
        "IMDB sentiment: label balance + sample peek"
      ],
      "metadata": {
        "id": "Ft_GbTNIjVhz"
      }
    },
    {
      "cell_type": "code",
      "source": [
        "# If needed:\n",
        "# !pip install datasets\n",
        "\n",
        "from datasets import load_dataset, load_dataset_builder\n",
        "from collections import Counter\n",
        "\n",
        "ds = load_dataset(\"imdb\")\n",
        "\n",
        "# Basic structure\n",
        "print(ds)\n",
        "print(\"Train rows:\", ds[\"train\"].num_rows, \"Test rows:\", ds[\"test\"].num_rows)\n",
        "print(\"Features:\", load_dataset_builder(\"imdb\").info.features)\n",
        "\n",
        "# Label balance (train)\n",
        "label_counts = Counter(ds[\"train\"][\"label\"])\n",
        "print(\"Label counts:\", label_counts)\n",
        "\n",
        "# Bar chart\n",
        "plt.bar([\"Negative\",\"Positive\"], [label_counts[0], label_counts[1]])\n",
        "plt.title(\"IMDB Sentiment Distribution (Train)\")\n",
        "plt.ylabel(\"Count\")\n",
        "plt.tight_layout()\n",
        "plt.show()\n",
        "\n",
        "# Sample row\n",
        "ds[\"train\"][0]\n"
      ],
      "metadata": {
        "id": "l9IMOMbWjVEO"
      },
      "execution_count": null,
      "outputs": []
    },
    {
      "cell_type": "markdown",
      "source": [
        "## 3) Kaggle 📦\n",
        "Delhi Air Quality via KaggleHub → first look"
      ],
      "metadata": {
        "id": "ayeed1vkjckP"
      }
    },
    {
      "cell_type": "code",
      "source": [
        "# If needed:\n",
        "# !pip install \"kagglehub[pandas-datasets]\"\n",
        "\n",
        "import kagglehub\n",
        "from kagglehub import KaggleDatasetAdapter\n",
        "\n",
        "# kagglehub.login()  # uncomment if required on your environment\n",
        "\n",
        "handle = \"kunshbhatia/delhi-air-quality-dataset\"\n",
        "file_in_dataset = \"delhi_air_quality.csv\"  # adjust if the filename differs\n",
        "\n",
        "df_kaggle = kagglehub.dataset_load(\n",
        "    KaggleDatasetAdapter.PANDAS,\n",
        "    handle,\n",
        "    file_in_dataset,\n",
        ")\n",
        "\n",
        "print(\"Kaggle (Delhi Air) shape:\", df_kaggle.shape)\n",
        "display(df_kaggle.head())\n",
        "print(df_kaggle.isna().sum().sort_values(ascending=False).head(10))\n"
      ],
      "metadata": {
        "id": "TFpTV941jb2q"
      },
      "execution_count": null,
      "outputs": []
    },
    {
      "cell_type": "markdown",
      "source": [
        "## 4) UCI Repository 🏛️\n",
        "Heart Disease via ucimlrepo"
      ],
      "metadata": {
        "id": "izjnrXBYjg8c"
      }
    },
    {
      "cell_type": "code",
      "source": [
        "# If needed:\n",
        "# !pip install ucimlrepo\n",
        "\n",
        "from ucimlrepo import fetch_ucirepo\n",
        "\n",
        "heart = fetch_ucirepo(id=45)  # Heart Disease\n",
        "X_uci = heart.data.features\n",
        "y_uci = heart.data.targets\n",
        "\n",
        "df_uci = X_uci.copy()\n",
        "for c in y_uci.columns:\n",
        "    df_uci[c] = y_uci[c]\n",
        "\n",
        "print(\"UCI Heart shape:\", df_uci.shape)\n",
        "display(df_uci.head())\n",
        "print(\"Targets:\", list(y_uci.columns))\n",
        "print(df_uci.isna().sum().sort_values(ascending=False).head(10))\n"
      ],
      "metadata": {
        "id": "0ev_9cnfjfm4"
      },
      "execution_count": null,
      "outputs": []
    },
    {
      "cell_type": "markdown",
      "source": [
        "## 5) OpenML 🌐\n",
        "“irish” dataset, ID 451 → robust fetch & first look"
      ],
      "metadata": {
        "id": "pG5fYmyGjk0m"
      }
    },
    {
      "cell_type": "code",
      "source": [
        "# If needed:\n",
        "# !pip install openml\n",
        "\n",
        "import openml\n",
        "\n",
        "d_irish = openml.datasets.get_dataset(451)  # \"irish\"\n",
        "target_col = d_irish.default_target_attribute\n",
        "X_irish, y_irish, cat_ind, names = d_irish.get_data(dataset_format=\"dataframe\", target=target_col)\n",
        "\n",
        "df_irish = X_irish.copy()\n",
        "df_irish[target_col] = y_irish\n",
        "\n",
        "print(\"OpenML 'irish' shape:\", df_irish.shape)\n",
        "display(df_irish.head())\n",
        "print(\"Target:\", target_col)\n",
        "print(\"Categorical flags per feature:\", dict(zip(names, cat_ind)))\n",
        "print(df_irish.isna().sum().sort_values(ascending=False))\n",
        "\n",
        "# Simple target distribution\n",
        "df_irish[target_col].value_counts(dropna=False)\n"
      ],
      "metadata": {
        "id": "rScFEsdIjmFY"
      },
      "execution_count": null,
      "outputs": []
    },
    {
      "cell_type": "markdown",
      "source": [
        "## (Mini) EDA add-ons 📋"
      ],
      "metadata": {
        "id": "_bDArzSjjpEu"
      }
    },
    {
      "cell_type": "code",
      "source": [
        "# Correlation (numeric) — quick peek\n",
        "num_cols = df_iris.select_dtypes(include=[np.number]).columns\n",
        "corr = df_iris[num_cols].corr()\n",
        "plt.figure(figsize=(6,5))\n",
        "plt.imshow(corr, interpolation=\"nearest\")\n",
        "plt.title(\"Iris: Correlation (numeric)\")\n",
        "plt.colorbar()\n",
        "plt.xticks(range(len(num_cols)), num_cols, rotation=90)\n",
        "plt.yticks(range(len(num_cols)), num_cols)\n",
        "plt.tight_layout()\n",
        "plt.show()\n",
        "\n",
        "# Simple group stats (if categorical exists)\n",
        "if \"target\" in df_iris:\n",
        "    print(df_iris.groupby(\"target\")[num_cols].mean())\n"
      ],
      "metadata": {
        "id": "0UGaBkrnjriI"
      },
      "execution_count": null,
      "outputs": []
    }
  ]
}