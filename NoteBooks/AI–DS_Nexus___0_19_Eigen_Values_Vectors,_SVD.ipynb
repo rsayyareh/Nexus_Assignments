{
  "cells": [
    {
      "cell_type": "markdown",
      "source": [
        "https://web.mit.edu/be.400/www/SVD/Singular_Value_Decomposition.htm"
      ],
      "metadata": {
        "id": "7QKkw4JhXOro"
      }
    },
    {
      "cell_type": "code",
      "execution_count": null,
      "metadata": {
        "id": "lIYdn1woOS1n"
      },
      "outputs": [],
      "source": [
        "import numpy as np\n",
        "from scipy import linalg\n"
      ]
    },
    {
      "cell_type": "code",
      "source": [
        "A = np.array([[2, 1],\n",
        "              [0, 3]])"
      ],
      "metadata": {
        "id": "zLrb1ebBTcwF"
      },
      "execution_count": null,
      "outputs": []
    },
    {
      "cell_type": "code",
      "source": [
        "print(A)"
      ],
      "metadata": {
        "id": "h8ymPxq_TjpJ",
        "outputId": "9df9a724-c5fa-45ba-e0c3-6665f04e10b5",
        "colab": {
          "base_uri": "https://localhost:8080/"
        }
      },
      "execution_count": null,
      "outputs": [
        {
          "output_type": "stream",
          "name": "stdout",
          "text": [
            "[[2 1]\n",
            " [0 3]]\n"
          ]
        }
      ]
    },
    {
      "cell_type": "code",
      "source": [
        "L, X = np.linalg.eig(A)"
      ],
      "metadata": {
        "id": "jrumppldTmzY"
      },
      "execution_count": null,
      "outputs": []
    },
    {
      "cell_type": "code",
      "source": [
        "print('eigenvalues: L=', L)\n",
        "print('eigenvectors: X=', X)"
      ],
      "metadata": {
        "id": "puMd2OjzT2pX",
        "outputId": "f6f8b91b-0e9c-4f83-b1d9-aa05aef71739",
        "colab": {
          "base_uri": "https://localhost:8080/"
        }
      },
      "execution_count": null,
      "outputs": [
        {
          "output_type": "stream",
          "name": "stdout",
          "text": [
            "eigenvalues: L= [2. 3.]\n",
            "eigenvectors: X= [[1.         0.70710678]\n",
            " [0.         0.70710678]]\n"
          ]
        }
      ]
    },
    {
      "cell_type": "code",
      "source": [
        "B = np.array([[2, 4],\n",
        "              [1, 3],\n",
        "              [0, 0],\n",
        "              [0, 0]])"
      ],
      "metadata": {
        "id": "AAGEB9E0U1MC"
      },
      "execution_count": null,
      "outputs": []
    },
    {
      "cell_type": "code",
      "source": [
        "BT = B.transpose()"
      ],
      "metadata": {
        "id": "dWlpdMNdVtGG"
      },
      "execution_count": null,
      "outputs": []
    },
    {
      "cell_type": "code",
      "source": [
        "B@BT"
      ],
      "metadata": {
        "id": "jbyBX-LoV2D8",
        "outputId": "fc509ea1-3cc0-4d66-a92d-aeb3153c15a1",
        "colab": {
          "base_uri": "https://localhost:8080/"
        }
      },
      "execution_count": null,
      "outputs": [
        {
          "output_type": "execute_result",
          "data": {
            "text/plain": [
              "array([[20, 14,  0,  0],\n",
              "       [14, 10,  0,  0],\n",
              "       [ 0,  0,  0,  0],\n",
              "       [ 0,  0,  0,  0]])"
            ]
          },
          "metadata": {},
          "execution_count": 20
        }
      ]
    },
    {
      "cell_type": "code",
      "source": [
        "L, X = np.linalg.eig(B@BT)"
      ],
      "metadata": {
        "id": "QjdzcCY8ecDt"
      },
      "execution_count": null,
      "outputs": []
    },
    {
      "cell_type": "code",
      "source": [
        "X"
      ],
      "metadata": {
        "colab": {
          "base_uri": "https://localhost:8080/"
        },
        "id": "9kF71ySOegc4",
        "outputId": "67ddb325-5637-42f0-a6d0-8cc9b547d33d"
      },
      "execution_count": null,
      "outputs": [
        {
          "output_type": "execute_result",
          "data": {
            "text/plain": [
              "array([[ 0.81741556, -0.57604844,  0.        ,  0.        ],\n",
              "       [ 0.57604844,  0.81741556,  0.        ,  0.        ],\n",
              "       [ 0.        ,  0.        ,  1.        ,  0.        ],\n",
              "       [ 0.        ,  0.        ,  0.        ,  1.        ]])"
            ]
          },
          "metadata": {},
          "execution_count": 22
        }
      ]
    },
    {
      "cell_type": "code",
      "source": [
        "U, S, VT = linalg.svd(B)"
      ],
      "metadata": {
        "id": "G05YP3iyT60l"
      },
      "execution_count": null,
      "outputs": []
    },
    {
      "cell_type": "code",
      "source": [
        "U"
      ],
      "metadata": {
        "colab": {
          "base_uri": "https://localhost:8080/"
        },
        "id": "qHJrupRSehSk",
        "outputId": "b8feb6e0-ad56-4157-c80f-a81ed85e2d19"
      },
      "execution_count": null,
      "outputs": [
        {
          "output_type": "execute_result",
          "data": {
            "text/plain": [
              "array([[-0.81741556, -0.57604844,  0.        ,  0.        ],\n",
              "       [-0.57604844,  0.81741556,  0.        ,  0.        ],\n",
              "       [ 0.        ,  0.        ,  1.        ,  0.        ],\n",
              "       [ 0.        ,  0.        ,  0.        ,  1.        ]])"
            ]
          },
          "metadata": {},
          "execution_count": 24
        }
      ]
    },
    {
      "cell_type": "code",
      "source": [
        "print('U: ', U)\n",
        "print('S: ', S)\n",
        "print('VT: ', VT)"
      ],
      "metadata": {
        "id": "4h8n_5VqVCZX",
        "outputId": "1d02ac27-f051-4d40-a497-96a22fa80660",
        "colab": {
          "base_uri": "https://localhost:8080/"
        }
      },
      "execution_count": null,
      "outputs": [
        {
          "output_type": "stream",
          "name": "stdout",
          "text": [
            "U:  [[-0.81741556 -0.57604844  0.          0.        ]\n",
            " [-0.57604844  0.81741556  0.          0.        ]\n",
            " [ 0.          0.          1.          0.        ]\n",
            " [ 0.          0.          0.          1.        ]]\n",
            "S:  [5.4649857  0.36596619]\n",
            "VT:  [[-0.40455358 -0.9145143 ]\n",
            " [-0.9145143   0.40455358]]\n"
          ]
        }
      ]
    }
  ],
  "metadata": {
    "colab": {
      "provenance": []
    },
    "kernelspec": {
      "display_name": "Python 3",
      "name": "python3"
    }
  },
  "nbformat": 4,
  "nbformat_minor": 0
}