{
  "cells": [
    {
      "cell_type": "code",
      "execution_count": null,
      "metadata": {
        "id": "lIYdn1woOS1n"
      },
      "outputs": [],
      "source": [
        "# import supervised models\n",
        "from sklearn.linear_model import LinearRegression, LogisticRegression\n",
        "from sklearn.svm import SVC, SVR\n",
        "from sklearn.neighbors import KNeighborsClassifier, KNeighborsRegressor\n",
        "from sklearn.tree import DecisionTreeClassifier, DecisionTreeRegressor\n",
        "from sklearn.ensemble import RandomForestClassifier, RandomForestRegressor\n",
        "from sklearn.naive_bayes import GaussianNB\n",
        "from sklearn.neural_network import MLPClassifier, MLPRegressor\n",
        "\n",
        "# import unsupervised models\n",
        "from sklearn.cluster import KMeans, DBSCAN, AgglomerativeClustering\n",
        "from sklearn.decomposition import PCA\n",
        "from sklearn.manifold import TSNE\n",
        "from sklearn.ensemble import IsolationForest\n"
      ]
    },
    {
      "cell_type": "code",
      "source": [
        "# training and inference phase\n",
        "model = LinearRegression()\n",
        "model.fit(X_train, y_train)\n",
        "y_pred = model.predict(X_test)\n",
        "\n",
        "\n",
        "\n",
        "unsupervised_model = KMeans(n_clusters=3)\n",
        "unsupervised_model.fit(X_train)\n",
        "y_pred = unsupervised_model.predict(X_test)"
      ],
      "metadata": {
        "id": "A2Wu5zE79HQv"
      },
      "execution_count": null,
      "outputs": []
    },
    {
      "cell_type": "code",
      "source": [
        "models = {\n",
        "    \"Supervised\": [\n",
        "        LinearRegression(),\n",
        "        LogisticRegression(),\n",
        "        SVC(),\n",
        "        SVR(),\n",
        "        KNeighborsClassifier(),\n",
        "        KNeighborsRegressor(),\n",
        "        DecisionTreeClassifier(),\n",
        "        DecisionTreeRegressor(),\n",
        "        RandomForestClassifier(),\n",
        "        RandomForestRegressor(),\n",
        "        GaussianNB(),\n",
        "        ],\n",
        "    \"Unsupervised\": [\n",
        "        KMeans(),\n",
        "        DBSCAN(),\n",
        "        AgglomerativeClustering(),\n",
        "        PCA(),\n",
        "        TSNE(),\n",
        "        IsolationForest(),\n",
        "    ]\n",
        "\n",
        "}"
      ],
      "metadata": {
        "id": "bFb5yuVC-751"
      },
      "execution_count": null,
      "outputs": []
    },
    {
      "cell_type": "code",
      "source": [
        "models.keys()"
      ],
      "metadata": {
        "id": "dymlXN8L_mri",
        "outputId": "fbb2485d-486c-47ca-e9d9-8c073f7c886f",
        "colab": {
          "base_uri": "https://localhost:8080/"
        }
      },
      "execution_count": null,
      "outputs": [
        {
          "output_type": "execute_result",
          "data": {
            "text/plain": [
              "dict_keys(['Supervised', 'Unsupervised'])"
            ]
          },
          "metadata": {},
          "execution_count": 5
        }
      ]
    },
    {
      "cell_type": "code",
      "source": [
        "models.values()"
      ],
      "metadata": {
        "id": "tIOQHstl_pnC",
        "outputId": "2f112528-6bdc-4feb-ee01-2ce9b9ea3b2b",
        "colab": {
          "base_uri": "https://localhost:8080/"
        }
      },
      "execution_count": null,
      "outputs": [
        {
          "output_type": "execute_result",
          "data": {
            "text/plain": [
              "dict_values([[LinearRegression(), LogisticRegression(), SVC(), SVR(), KNeighborsClassifier(), KNeighborsRegressor(), DecisionTreeClassifier(), DecisionTreeRegressor(), RandomForestClassifier(), RandomForestRegressor(), GaussianNB()], [KMeans(), DBSCAN(), AgglomerativeClustering(), PCA(), TSNE(), IsolationForest()]])"
            ]
          },
          "metadata": {},
          "execution_count": 6
        }
      ]
    },
    {
      "cell_type": "code",
      "source": [
        "models.items()"
      ],
      "metadata": {
        "id": "N1a5oJc9_v-4",
        "outputId": "116e687e-cc17-4a04-9dad-5f79ef720fb0",
        "colab": {
          "base_uri": "https://localhost:8080/"
        }
      },
      "execution_count": null,
      "outputs": [
        {
          "output_type": "execute_result",
          "data": {
            "text/plain": [
              "dict_items([('Supervised', [LinearRegression(), LogisticRegression(), SVC(), SVR(), KNeighborsClassifier(), KNeighborsRegressor(), DecisionTreeClassifier(), DecisionTreeRegressor(), RandomForestClassifier(), RandomForestRegressor(), GaussianNB()]), ('Unsupervised', [KMeans(), DBSCAN(), AgglomerativeClustering(), PCA(), TSNE(), IsolationForest()])])"
            ]
          },
          "metadata": {},
          "execution_count": 7
        }
      ]
    },
    {
      "cell_type": "code",
      "source": [
        "for category, model_list in models.items():\n",
        "    print(f\"{category} Models:\")\n",
        "    for model in model_list:\n",
        "        print(f\"- {model.__class__.__name__}\")"
      ],
      "metadata": {
        "id": "txeNEwiC_zcA",
        "outputId": "dab81b12-f38e-49ce-f3f1-b72ade6ed895",
        "colab": {
          "base_uri": "https://localhost:8080/"
        }
      },
      "execution_count": null,
      "outputs": [
        {
          "output_type": "stream",
          "name": "stdout",
          "text": [
            "Supervised Models:\n",
            "- LinearRegression\n",
            "- LogisticRegression\n",
            "- SVC\n",
            "- SVR\n",
            "- KNeighborsClassifier\n",
            "- KNeighborsRegressor\n",
            "- DecisionTreeClassifier\n",
            "- DecisionTreeRegressor\n",
            "- RandomForestClassifier\n",
            "- RandomForestRegressor\n",
            "- GaussianNB\n",
            "Unsupervised Models:\n",
            "- KMeans\n",
            "- DBSCAN\n",
            "- AgglomerativeClustering\n",
            "- PCA\n",
            "- TSNE\n",
            "- IsolationForest\n"
          ]
        }
      ]
    }
  ],
  "metadata": {
    "colab": {
      "provenance": []
    },
    "kernelspec": {
      "display_name": "Python 3",
      "name": "python3"
    }
  },
  "nbformat": 4,
  "nbformat_minor": 0
}